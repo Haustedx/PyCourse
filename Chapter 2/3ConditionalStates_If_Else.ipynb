{
 "nbformat": 4,
 "nbformat_minor": 2,
 "metadata": {
  "language_info": {
   "name": "python",
   "codemirror_mode": {
    "name": "ipython",
    "version": 3
   }
  },
  "orig_nbformat": 2,
  "file_extension": ".py",
  "mimetype": "text/x-python",
  "name": "python",
  "npconvert_exporter": "python",
  "pygments_lexer": "ipython3",
  "version": 3
 },
 "cells": [
  {
   "source": [
    "# Conditional States If-Else<br>\n",
    "In this topic, we will first see the working logic of Python programs, and then we will try to understand the conditional states."
   ],
   "cell_type": "markdown",
   "metadata": {}
  },
  {
   "source": [
    "## Working Logic of Python Programs<br>\n",
    "When Python programs start to run, our codes are run one by one, starting from the top, and our program ends when there is no code left to run. "
   ],
   "cell_type": "markdown",
   "metadata": {}
  },
  {
   "cell_type": "code",
   "execution_count": null,
   "metadata": {},
   "outputs": [],
   "source": [
    "a = 2\n",
    "b = 3\n",
    "c = 4\n",
    "print(a+b+c)"
   ]
  }
 ]
}