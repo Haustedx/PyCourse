{
 "nbformat": 4,
 "nbformat_minor": 2,
 "metadata": {
  "language_info": {
   "name": "python",
   "codemirror_mode": {
    "name": "ipython",
    "version": 3
   }
  },
  "orig_nbformat": 2,
  "file_extension": ".py",
  "mimetype": "text/x-python",
  "name": "python",
  "npconvert_exporter": "python",
  "pygments_lexer": "ipython3",
  "version": 3
 },
 "cells": [
  {
   "source": [
    "# Conditional States If-Else<br>\n",
    "In this topic, we will first see the working logic of Python programs, and then we will try to understand the conditional states."
   ],
   "cell_type": "markdown",
   "metadata": {}
  },
  {
   "source": [
    "## Working Logic of Python Programs<br>\n",
    "When Python programs start to run, our codes are run one by one, starting from the top, and our program ends when there is no code left to run. "
   ],
   "cell_type": "markdown",
   "metadata": {}
  },
  {
   "cell_type": "code",
   "execution_count": null,
   "metadata": {},
   "outputs": [],
   "source": [
    "a = 2\n",
    "b = 3\n",
    "c = 4\n",
    "print(a+b+c)"
   ]
  },
  {
   "source": [
    "In the simple code above, the program executes each line and statement one by one, and the program ends when there is no more code to run. However, not every program is that simple in Python. Most of the time, our Python programs consist of certain blocks and these blocks do not always have to be executed. How are these blocks defined? The process of defining a block in Python is thanks to Indents. As an example, in Python blocks can be formed as follows."
   ],
   "cell_type": "markdown",
   "metadata": {}
  },
  {
   "cell_type": "code",
   "execution_count": null,
   "metadata": {},
   "outputs": [],
   "source": [
    "a = 2                   #code block 1   \n",
    "if (a == 2):            #code block 2\n",
    "    print(a)            #code block 2\n",
    "print(\"code block 1\")   #code block 1\n"
   ]
  },
  {
   "source": [
    "If you notice, we have done something that we have not seen before and we have indented the print operation after the line where the if is found, as much as a tab. As we've seen here, tabs are used to create a block in Python, and not every block needs to be executed."
   ],
   "cell_type": "markdown",
   "metadata": {}
  },
  {
   "cell_type": "code",
   "execution_count": null,
   "metadata": {},
   "outputs": [],
   "source": [
    "a = 2                   #code block 1   \n",
    "if (a == 3):            #code block 2\n",
    "    print(a)            #code block 2\n",
    "print(\"code block 1\")   #code block 1\n"
   ]
  },
  {
   "source": [
    "We can see that the code block 2 won't be executed for the example code above"
   ],
   "cell_type": "markdown",
   "metadata": {}
  }
 ]
}