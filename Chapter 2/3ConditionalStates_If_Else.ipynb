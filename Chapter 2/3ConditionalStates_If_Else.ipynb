{
 "nbformat": 4,
 "nbformat_minor": 2,
 "metadata": {
  "language_info": {
   "name": "python",
   "codemirror_mode": {
    "name": "ipython",
    "version": 3
   },
   "version": "2.7.17-final"
  },
  "orig_nbformat": 2,
  "file_extension": ".py",
  "mimetype": "text/x-python",
  "name": "python",
  "npconvert_exporter": "python",
  "pygments_lexer": "ipython3",
  "version": 3,
  "kernelspec": {
   "name": "python271764bite17f59548f514d9b8563ac169efbe912",
   "display_name": "Python 2.7.17 64-bit"
  }
 },
 "cells": [
  {
   "source": [
    "# Conditional States If-Else<br>\n",
    "In this topic, we will first see the working logic of Python programs, and then we will try to understand the conditional states."
   ],
   "cell_type": "markdown",
   "metadata": {}
  },
  {
   "source": [
    "## Working Logic of Python Programs<br>\n",
    "When Python programs start to run, our codes are run one by one, starting from the top, and our program ends when there is no code left to run. "
   ],
   "cell_type": "markdown",
   "metadata": {}
  },
  {
   "cell_type": "code",
   "execution_count": 1,
   "metadata": {},
   "outputs": [
    {
     "output_type": "stream",
     "name": "stdout",
     "text": "9\n"
    }
   ],
   "source": [
    "a = 2\n",
    "b = 3\n",
    "c = 4\n",
    "print(a+b+c)"
   ]
  },
  {
   "source": [
    "In the simple code above, the program executes each line and statement one by one, and the program ends when there is no more code to run. However, not every program is that simple in Python. Most of the time, our Python programs consist of certain blocks and these blocks do not always have to be executed. How are these blocks defined? The process of defining a block in Python is thanks to Indents. As an example, in Python blocks can be formed as follows."
   ],
   "cell_type": "markdown",
   "metadata": {}
  },
  {
   "cell_type": "code",
   "execution_count": null,
   "metadata": {},
   "outputs": [],
   "source": [
    "a = 2                   #code block 1   \n",
    "if (a == 2):            #code block 2\n",
    "    print(a)            #code block 2\n",
    "print(\"code block 1\")   #code block 1\n"
   ]
  },
  {
   "source": [
    "If you notice, we have done something that we have not seen before and we have indented the print operation after the line where the if is found, as much as a tab. As we've seen here, tabs are used to create a block in Python, and not every block needs to be executed."
   ],
   "cell_type": "markdown",
   "metadata": {}
  },
  {
   "cell_type": "code",
   "execution_count": null,
   "metadata": {},
   "outputs": [],
   "source": [
    "a = 2                   #code block 1   \n",
    "if (a == 3):            #code block 2\n",
    "    print(a)            #code block 2\n",
    "print(\"code block 1\")   #code block 1\n"
   ]
  },
  {
   "source": [
    "We can see that the code block 2 won't be executed for the example code above"
   ],
   "cell_type": "markdown",
   "metadata": {}
  },
  {
   "source": [
    "# Conditional States<br>\n",
    "Conditional states are in fact everyday situations. For example if it's rainy outside we take our umbrella with us. It is mostly the same in programming world. We do the operations under specific circumstances. Let's see to it.<br>\n",
    "## If Block<br>\n",
    "If block is used if we are going to check a certain condition anywhere in our program.<br><br>\n",
    "\n",
    "&nbsp;&nbsp;&nbsp;&nbsp; if(condition):<br>\n",
    "&nbsp;&nbsp;&nbsp;&nbsp;&nbsp;&nbsp;&nbsp;# if block - Executes when condition is met (True). Every transaction in this line belongs to this if block.<br>\n",
    "&nbsp;&nbsp;&nbsp;&nbsp;&nbsp;&nbsp;&nbsp;# if block - Created by indentation.<br>\n",
    "&nbsp;&nbsp;&nbsp;&nbsp;&nbsp;&nbsp;&nbsp;Operations<br><br>\n",
    "\n",
    "The if block is only expressive if the condition is met. If the condition in the if pattern is met (True), the if block is executed, if the condition is not met (False), the if block is not executed.\n"
   ],
   "cell_type": "markdown",
   "metadata": {}
  },
  {
   "cell_type": "code",
   "execution_count": null,
   "metadata": {},
   "outputs": [],
   "source": [
    "#exam grade control\n",
    "grade = int(input(\"Enter Your Grade\"))\n",
    "\n",
    "if (grade < 50):\n",
    "    # if block - Provided with indentation.\n",
    "    print(\"You Failed\")"
   ]
  },
  {
   "source": [
    "As you can realize the program above won't tell us anything if our grade is more than 50. We are going to need something here.<br> Any guess?"
   ],
   "cell_type": "markdown",
   "metadata": {}
  },
  {
   "source": [
    "## Else Block<br>\n",
    "else blocks are blocks that run when the if condition is not met (False). Let's see to it.<br><br>\n",
    "\n",
    "&nbsp;&nbsp;&nbsp;&nbsp; else:<br>\n",
    "&nbsp;&nbsp;&nbsp;&nbsp;&nbsp;&nbsp;&nbsp;# else block - It works when if block above does not work.<br>\n",
    "&nbsp;&nbsp;&nbsp;&nbsp;&nbsp;&nbsp;&nbsp;# else block - Created by indentation.<br>\n",
    "&nbsp;&nbsp;&nbsp;&nbsp;&nbsp;&nbsp;&nbsp;Operations<br><br>\n",
    "\n",
    "Notice that we did not write any conditions next to the else condition here. Because the operation of the else block is dependent on the other conditions that precede it not being met. If you want, let's rewrite the exam grade check example by including the else block."
   ],
   "cell_type": "markdown",
   "metadata": {}
  },
  {
   "cell_type": "code",
   "execution_count": null,
   "metadata": {},
   "outputs": [],
   "source": [
    "#exam grade control\n",
    "grade = int(input(\"Enter Your Grade\"))\n",
    "\n",
    "if (grade < 50):\n",
    "    # if block - Provided with indentation.\n",
    "    print(\"You Failed\")\n",
    "else:\n",
    "    # else block - Will work if the condition above is not met\n",
    "    "
   ]
  }
 ]
}