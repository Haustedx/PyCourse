{
 "nbformat": 4,
 "nbformat_minor": 2,
 "metadata": {
  "language_info": {
   "name": "python",
   "codemirror_mode": {
    "name": "ipython",
    "version": 3
   }
  },
  "orig_nbformat": 2,
  "file_extension": ".py",
  "mimetype": "text/x-python",
  "name": "python",
  "npconvert_exporter": "python",
  "pygments_lexer": "ipython3",
  "version": 3
 },
 "cells": [
  {
   "source": [
    "# Programming Assignment - Conditional Conditions\n",
    "Congratulations! You have successfully completed the section. Now it's time to do your homework to keep what you've learned in mind!\n",
    "\n",
    "## Problem 1\n",
    "Calculate the body mass index according to the height and weight values obtained from the user and print the following texts on the screen according to these rules.\n",
    "\n",
    "  Body Mass Index: Weight / Height(m) * Height(m)\n",
    "\n",
    "  If BMI is below 18.5 -------> Poor\n",
    "\n",
    "  If BMI is between 18.5 and 25 ------> Normal\n",
    "\n",
    "  If BMI is between 25 and 30 --------> Overweight\n",
    "\n",
    "  If BMI is over 30 -------------> Obese\n",
    "\n",
    "## Problem 2\n",
    "Get 3 numbers from the user and print the largest number on the screen.\n",
    "\n",
    "## Problem 3\n",
    "Calculate the letter grade according to the grades of the user's visa1, visa2, final grades.\n",
    "\n",
    "  Visa1 will affect 30% of the total grade.\n",
    "\n",
    "  Visa2 will affect 30% of the total grade.\n",
    "\n",
    "  The final will affect 40% of the total grade.\n",
    "\n",
    "\n",
    "     Total Grade >= 90 -----> AA\n",
    "\n",
    "     Total Grade >= 85 -----> BA\n",
    "\n",
    "     Total Grade >= 80 -----> BB\n",
    "\n",
    "     Total Grade >= 75 -----> CB\n",
    "\n",
    "     Total Grade >= 70 -----> CC\n",
    "\n",
    "     Total Grade >= 65 -----> DC\n",
    "\n",
    "     Total Grade >= 60 -----> DD\n",
    "\n",
    "     Total Grade >= 55 -----> FD\n",
    "\n",
    "     Total Grade < 55 -----> FF"
   ],
   "cell_type": "markdown",
   "metadata": {}
  }
 ]
}