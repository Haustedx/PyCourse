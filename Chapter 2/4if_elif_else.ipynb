{
 "nbformat": 4,
 "nbformat_minor": 2,
 "metadata": {
  "language_info": {
   "name": "python",
   "codemirror_mode": {
    "name": "ipython",
    "version": 3
   }
  },
  "orig_nbformat": 2,
  "file_extension": ".py",
  "mimetype": "text/x-python",
  "name": "python",
  "npconvert_exporter": "python",
  "pygments_lexer": "ipython3",
  "version": 3
 },
 "cells": [
  {
   "source": [
    "# if-elif-else Blocks<br>\n",
    "In our previous topic, we could only check a single condition with our conditional states. However, in programming, a situation may depend on many conditions. For example, when we write a calculator program, we can determine our conditions according to the transactions entered by the user. We use if-elif-else patterns for such cases.<br><br>\n",
    "\n",
    "&nbsp;&nbsp;&nbsp;&nbsp; if(condition):<br>\n",
    "&nbsp;&nbsp;&nbsp;&nbsp;&nbsp;&nbsp;&nbsp;# Operations<br>\n",
    "&nbsp;&nbsp;&nbsp;&nbsp; elif(another condition):<br>\n",
    "&nbsp;&nbsp;&nbsp;&nbsp;&nbsp;&nbsp;&nbsp;# Operations<br>\n",
    "&nbsp;&nbsp;&nbsp;&nbsp; elif(another condition):<br>\n",
    "&nbsp;&nbsp;&nbsp;&nbsp;&nbsp;&nbsp;&nbsp;# Operations<br>\n",
    "&nbsp;&nbsp;&nbsp;&nbsp;&nbsp;&nbsp;&nbsp;<br>\n",
    "&nbsp;&nbsp;&nbsp;&nbsp;&nbsp;&nbsp;&nbsp;//<br>\n",
    "&nbsp;&nbsp;&nbsp;&nbsp;&nbsp;&nbsp;&nbsp;//<br>\n",
    "&nbsp;&nbsp;&nbsp;&nbsp; else:<br>\n",
    "&nbsp;&nbsp;&nbsp;&nbsp;&nbsp;&nbsp;&nbsp;# Operations<br><br>\n",
    "In our programs, we can create as many elif blocks as we have how many conditions. Also, it is not necessary to write else. In if - elif - else patterns, whatever condition is met, the program executes that block and if-elif-blocks expire.\n",
    "\n",
    "\n",
    "\n",
    "\n"
   ],
   "cell_type": "markdown",
   "metadata": {}
  },
  {
   "cell_type": "code",
   "execution_count": null,
   "metadata": {},
   "outputs": [],
   "source": [
    "number = int(input(\"Choose a number 1-2-3:\")) # Let us choose a number \n",
    "if number == 1\n",
    "    print(\"Number 1 Chosen\")\n",
    "elif number == 2\n",
    "    print(\"Number 2 Chosen\")\n",
    "elif number == 3\n",
    "    print(\"Number 3 Chosen\")\n",
    "else:\n",
    "    print(\"Unvalid Number\")\n",
    "\n",
    "#There is no need to use the else block in this program. In the code here, we just put an optional else block for other cases. Our code will be able to run without the else block. However, in this case, if an incorrect operation is entered, we will see that nothing is written on the screen. So, using the else block is entirely up to you."
   ]
  },
  {
   "source": [
    "Let's remember the previous lesson. We wrote a simple exam grade check program, now let's make that program more detailed with more conditions."
   ],
   "cell_type": "markdown",
   "metadata": {}
  },
  {
   "cell_type": "code",
   "execution_count": null,
   "metadata": {},
   "outputs": [],
   "source": [
    "#exam grade check\n",
    "grade = float(input(\"Enter Your Grade:\"))\n",
    "\n",
    "if grade >= 90:\n",
    "    print(\"AA\")\n",
    "elif grade >= 85:\n",
    "    print(\"BA\")\n",
    "elif grade >= 90:\n",
    "    print(\"BA\")\n",
    "elif grade >= 80:\n",
    "    print(\"BB\")\n",
    "elif grade >= 75:\n",
    "    print(\"CB\")\n",
    "elif grade >= 70:\n",
    "    print(\"CC\")\n",
    "elif grade >= 65:\n",
    "    print(\"DC\")\n",
    "elif grade >= 60:\n",
    "    print(\"DD\")\n",
    "else:\n",
    "    print(\"Failed\")\n",
    "    \n",
    "# Here, if any of our blocks meet the condition, the print operation will take place and our program will terminate."
   ]
  },
  {
   "cell_type": "code",
   "execution_count": null,
   "metadata": {},
   "outputs": [],
   "source": []
  }
 ]
}