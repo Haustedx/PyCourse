{
 "nbformat": 4,
 "nbformat_minor": 2,
 "metadata": {
  "language_info": {
   "name": "python",
   "codemirror_mode": {
    "name": "ipython",
    "version": 3
   }
  },
  "orig_nbformat": 2,
  "file_extension": ".py",
  "mimetype": "text/x-python",
  "name": "python",
  "npconvert_exporter": "python",
  "pygments_lexer": "ipython3",
  "version": 3
 },
 "cells": [
  {
   "source": [
    "# if-elif-else Blocks<br>\n",
    "In our previous topic, we could only check a single condition with our conditional states. However, in programming, a situation may depend on many conditions. For example, when we write a calculator program, we can determine our conditions according to the transactions entered by the user. We use if-elif-else patterns for such cases.<br><br>\n",
    "\n",
    "&nbsp;&nbsp;&nbsp;&nbsp; if(condition):<br>\n",
    "&nbsp;&nbsp;&nbsp;&nbsp;&nbsp;&nbsp;&nbsp;# Operations<br>\n",
    "&nbsp;&nbsp;&nbsp;&nbsp; elif(another condition):<br>\n",
    "&nbsp;&nbsp;&nbsp;&nbsp;&nbsp;&nbsp;&nbsp;# Operations<br>\n",
    "&nbsp;&nbsp;&nbsp;&nbsp; elif(another condition):<br>\n",
    "&nbsp;&nbsp;&nbsp;&nbsp;&nbsp;&nbsp;&nbsp;# Operations<br>\n",
    "&nbsp;&nbsp;&nbsp;&nbsp;&nbsp;&nbsp;&nbsp;<br>\n",
    "&nbsp;&nbsp;&nbsp;&nbsp;&nbsp;&nbsp;&nbsp;//<br>\n",
    "&nbsp;&nbsp;&nbsp;&nbsp;&nbsp;&nbsp;&nbsp;//<br>\n",
    "&nbsp;&nbsp;&nbsp;&nbsp; else:<br>\n",
    "&nbsp;&nbsp;&nbsp;&nbsp;&nbsp;&nbsp;&nbsp;# Operations<br><br>\n",
    "\n",
    "\n",
    "\n",
    "\n"
   ],
   "cell_type": "markdown",
   "metadata": {}
  }
 ]
}