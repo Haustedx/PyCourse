{
 "nbformat": 4,
 "nbformat_minor": 2,
 "metadata": {
  "language_info": {
   "name": "python",
   "codemirror_mode": {
    "name": "ipython",
    "version": 3
   },
   "version": "2.7.17-final"
  },
  "orig_nbformat": 2,
  "file_extension": ".py",
  "mimetype": "text/x-python",
  "name": "python",
  "npconvert_exporter": "python",
  "pygments_lexer": "ipython3",
  "version": 3,
  "kernelspec": {
   "name": "python271764bit71a7be239ba74c0e939b248c01dfeaff",
   "display_name": "Python 2.7.17 64-bit"
  }
 },
 "cells": [
  {
   "source": [
    "# Logical conjunctions\n",
    "Logical connectors are mostly used when we control the comparison process.<br>\n",
    "Let's try to learn about them."
   ],
   "cell_type": "markdown",
   "metadata": {}
  },
  {
   "source": [
    "## And Operator<br>\n",
    "This logical conjunction checks that the result of all comparison operations is \"True\". If the internal result of all linked comparison operations is \"True\", the overall result is \"True\", otherwise the result is \"False\".<br>\n",
    "Let's see an example of this"
   ],
   "cell_type": "markdown",
   "metadata": {}
  },
  {
   "cell_type": "code",
   "execution_count": 3,
   "metadata": {},
   "outputs": [
    {
     "output_type": "execute_result",
     "data": {
      "text/plain": "True"
     },
     "metadata": {},
     "execution_count": 3
    }
   ],
   "source": [
    "1 < 2 and \"Python\" == \"Python\""
   ]
  },
  {
   "cell_type": "code",
   "execution_count": null,
   "metadata": {},
   "outputs": [],
   "source": [
    "5 > 7 and \"Python\" == \"Python\""
   ]
  },
  {
   "cell_type": "code",
   "execution_count": null,
   "metadata": {},
   "outputs": [],
   "source": [
    "2 == 2 and 3.14 < 1.87 and \"Apple\" != \"Pie\" #If the result of even one of the operations is False, the result of the general                                                    operation is False."
   ]
  },
  {
   "source": [
    "## Or Operator<br>\n",
    "This logical conjunction checks if at least one of the results of all comparison operations is \"True\". The general result is \"True\" if at least one of the linked comparison operations is \"True\", and \"False\" in other cases.<br>\n",
    "Let's see an example of that.\n"
   ],
   "cell_type": "markdown",
   "metadata": {}
  },
  {
   "cell_type": "code",
   "execution_count": null,
   "metadata": {},
   "outputs": [],
   "source": [
    "1 < 2 or \"Python\" != \"Python\""
   ]
  },
  {
   "cell_type": "code",
   "execution_count": null,
   "metadata": {},
   "outputs": [],
   "source": [
    "5 > 7 and \"Apple\" != \"Apple\""
   ]
  },
  {
   "cell_type": "code",
   "execution_count": null,
   "metadata": {},
   "outputs": [],
   "source": [
    "2 > 3 or \"Pie\" != \"Pie\" or 3.14 < 4.32"
   ]
  },
  {
   "source": [
    "## Not Operator<br>\n",
    "The not operator is not actually a logical conjunction. This operator simply converts a logical value or the opposite result of the comparison operation. That is, the not operator converts a result of \"True\" to \"False\" and a result of \"False\" to \"True\".<br>\n",
    "Let's see an example of that.\n"
   ],
   "cell_type": "markdown",
   "metadata": {}
  },
  {
   "cell_type": "code",
   "execution_count": 4,
   "metadata": {},
   "outputs": [
    {
     "output_type": "execute_result",
     "data": {
      "text/plain": "False"
     },
     "metadata": {},
     "execution_count": 4
    }
   ],
   "source": [
    "not 2 == 2 # (2==2) should be True but because of the not operator, the expected result is False"
   ]
  },
  {
   "cell_type": "code",
   "execution_count": null,
   "metadata": {},
   "outputs": [],
   "source": [
    "not \"Python\" == \"Java\""
   ]
  },
  {
   "source": [
    "## Using The Operators Together<br>\n",
    "This can be done but it is only practical if we use it with paranthesis since the equation will be complicated with too many operators.\n"
   ],
   "cell_type": "markdown",
   "metadata": {}
  },
  {
   "cell_type": "code",
   "execution_count": 6,
   "metadata": {},
   "outputs": [
    {
     "output_type": "execute_result",
     "data": {
      "text/plain": "True"
     },
     "metadata": {},
     "execution_count": 6
    }
   ],
   "source": [
    "not (2.14 > 3.49 or ( 2 != 2 and \"Pie\" == \"Pie\"))"
   ]
  }
 ]
}