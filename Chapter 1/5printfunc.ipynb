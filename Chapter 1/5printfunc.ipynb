{
 "nbformat": 4,
 "nbformat_minor": 2,
 "metadata": {
  "language_info": {
   "name": "python",
   "codemirror_mode": {
    "name": "ipython",
    "version": 3
   }
  },
  "orig_nbformat": 2,
  "file_extension": ".py",
  "mimetype": "text/x-python",
  "name": "python",
  "npconvert_exporter": "python",
  "pygments_lexer": "ipython3",
  "version": 3
 },
 "cells": [
  {
   "source": [
    "# Print Function<br>\n",
    "In this section, we will learn about the print() function we use to print data types to the screen.<br>\n",
    "When we write our codes to files, if we want to print a value to the screen, we use the print function. It is very simple to use and has various features.<br>\n"
   ],
   "cell_type": "markdown",
   "metadata": {}
  },
  {
   "cell_type": "code",
   "execution_count": null,
   "metadata": {},
   "outputs": [],
   "source": [
    "print(18)\n",
    "print(3.14)"
   ]
  },
  {
   "cell_type": "code",
   "execution_count": null,
   "metadata": {},
   "outputs": [],
   "source": [
    "a = 5\n",
    "b = 9\n",
    "print(a+b)"
   ]
  },
  {
   "cell_type": "code",
   "execution_count": null,
   "metadata": {},
   "outputs": [],
   "source": [
    "print(\"I love Python\")\n",
    "\n",
    "# As we see in the operations here, we give the value we want to print into the print function, and this function prints our value to the screen."
   ]
  },
  {
   "cell_type": "code",
   "execution_count": null,
   "metadata": {},
   "outputs": [],
   "source": [
    "# So what do we do if we want to print several values in the same row? For this we put the character \",\" between our values.\n",
    "print(3,4,5)\n",
    "print(\"Python\", 3.14, 17)"
   ]
  },
  {
   "source": [
    "## Special Characters in Strings<br>\n",
    "There are special characters used in strings in Python, and where they are used makes our work easier. The two most used are:\n",
    "\n",
    "## \\n character\n",
    "If the print() function encounters such a character in strings, it continues printing from the bottom line to the screen. Let's take a look at our examples."
   ],
   "cell_type": "markdown",
   "metadata": {}
  },
  {
   "cell_type": "code",
   "execution_count": null,
   "metadata": {},
   "outputs": [],
   "source": [
    "print(\"Why\\nWhere\\nWhen\")"
   ]
  },
  {
   "source": [
    "## \\t character<br>\n",
    "If the print() function encounters such a character in strings, it continues printing to the screen by leaving a tab space. Let's take a look at our examples."
   ],
   "cell_type": "markdown",
   "metadata": {}
  },
  {
   "cell_type": "code",
   "execution_count": null,
   "metadata": {},
   "outputs": [],
   "source": [
    "print(\"March\\tApril\\tMay\")"
   ]
  },
  {
   "source": [
    "## type() function<br>\n",
    "Speaking of the print() function, it is useful to learn the type() function. It tells which data type the value passed into the type() function is."
   ],
   "cell_type": "markdown",
   "metadata": {}
  },
  {
   "cell_type": "code",
   "execution_count": null,
   "metadata": {},
   "outputs": [],
   "source": [
    "a = 116\n",
    "print(type(a))"
   ]
  },
  {
   "cell_type": "code",
   "execution_count": null,
   "metadata": {},
   "outputs": [],
   "source": [
    "b = 5.87\n",
    "print(type(b))"
   ]
  },
  {
   "cell_type": "code",
   "execution_count": null,
   "metadata": {},
   "outputs": [],
   "source": [
    "c = \"Python\"\n",
    "print(type(c))"
   ]
  },
  {
   "source": [
    "# Properties of the Print() Function\n",
    "If we use the useful features of the print() function during our screen printing operations, we can make the code we write more efficient. For this, we will talk about two features here.\n",
    "\n",
    "## sep parameter\n",
    "The sep parameter, which can be used in the print() function, allows the characters we want to be placed between the values we print. If we don't use this parameter, we know that by default space is placed between values. Let's look at examples."
   ],
   "cell_type": "markdown",
   "metadata": {}
  },
  {
   "cell_type": "code",
   "execution_count": null,
   "metadata": {},
   "outputs": [],
   "source": [
    "print(3,4,5,6,7,8,9)"
   ]
  },
  {
   "cell_type": "code",
   "execution_count": null,
   "metadata": {},
   "outputs": [],
   "source": [
    "print(3,4,5,6,7,8,9,sep = \".\")\n",
    "# With the sep parameter, a dot is placed between the values."
   ]
  },
  {
   "cell_type": "code",
   "execution_count": null,
   "metadata": {},
   "outputs": [],
   "source": [
    "print(\"06\",\"04\",\"2015\",sep = \"/\")\n",
    "# The \"/\" symbol is placed between the values."
   ]
  },
  {
   "cell_type": "code",
   "execution_count": null,
   "metadata": {},
   "outputs": [],
   "source": [
    "print(\"March\",\"April\",\"May\",sep = \"\\n\")"
   ]
  },
  {
   "source": [
    "## Star Parameters\n",
    "If we put * at the beginning of a string and send it to the print function, this string will be separated into characters and each character will be treated as a separate string and printed on the screen."
   ],
   "cell_type": "markdown",
   "metadata": {}
  },
  {
   "cell_type": "code",
   "execution_count": null,
   "metadata": {},
   "outputs": [],
   "source": [
    "# Space between characters by default.\n",
    "print(*\"Python\")"
   ]
  },
  {
   "cell_type": "code",
   "execution_count": null,
   "metadata": {},
   "outputs": [],
   "source": [
    "print(*\"Python\",sep = \"\\n\")"
   ]
  },
  {
   "source": [
    "# Formatting<br>\n",
    "While programming, we may want to place previously defined values such as string, float, int in a string in some places. For such cases, there is a format() function in Python."
   ],
   "cell_type": "markdown",
   "metadata": {}
  },
  {
   "cell_type": "code",
   "execution_count": null,
   "metadata": {},
   "outputs": [],
   "source": [
    "# Here we have 3 curly braces ({}) and they are replaced by the values inside the format function, respectively.\n",
    "\"{} {} {}\".format(3.1423,5.324,7.324324)"
   ]
  },
  {
   "cell_type": "code",
   "execution_count": null,
   "metadata": {},
   "outputs": [],
   "source": [
    "a = 3\n",
    "b = 4\n",
    "print(\"{} + {} is {} \".format(a,b,a+b))"
   ]
  },
  {
   "source": [
    "When you need to use the format function, you can use the following website; https://pyformat.info/"
   ],
   "cell_type": "markdown",
   "metadata": {}
  }
 ]
}