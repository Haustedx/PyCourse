{
 "nbformat": 4,
 "nbformat_minor": 2,
 "metadata": {
  "language_info": {
   "name": "python",
   "codemirror_mode": {
    "name": "ipython",
    "version": 3
   },
   "version": "2.7.17-final"
  },
  "orig_nbformat": 2,
  "file_extension": ".py",
  "mimetype": "text/x-python",
  "name": "python",
  "npconvert_exporter": "python",
  "pygments_lexer": "ipython3",
  "version": 3,
  "kernelspec": {
   "name": "python271764bitb55fe40516ea4b359f46ac7ea3d89591",
   "display_name": "Python 2.7.17 64-bit"
  }
 },
 "cells": [
  {
   "source": [
    "# Data Type Conversions<br><br>\n",
    "Converting datatypes to each other is very important in Python and most other programming languages. Sometimes converting a decimal number to an integer, or even converting a string to an integer, is very important when we write our programs. In this topic, we will try to learn about such transformations.<br>\n"
   ],
   "cell_type": "markdown",
   "metadata": {}
  },
  {
   "source": [
    "## Converting Integer to Decimal<br>\n",
    "We can use the float() function to convert an integer value to a decimal number (float). "
   ],
   "cell_type": "markdown",
   "metadata": {}
  },
  {
   "cell_type": "code",
   "execution_count": 11,
   "metadata": {},
   "outputs": [
    {
     "output_type": "execute_result",
     "data": {
      "text/plain": "13.0"
     },
     "metadata": {},
     "execution_count": 11
    }
   ],
   "source": [
    "a = 13\n",
    "float(a)\n"
   ]
  },
  {
   "source": [
    "## Converting Decimal to Integer<br>\n",
    "We can use the int() function to convert a decimal number to an integer. The result will appear as the whole part of the decimal number."
   ],
   "cell_type": "markdown",
   "metadata": {}
  },
  {
   "cell_type": "code",
   "execution_count": 12,
   "metadata": {},
   "outputs": [
    {
     "output_type": "execute_result",
     "data": {
      "text/plain": "5"
     },
     "metadata": {},
     "execution_count": 12
    }
   ],
   "source": [
    "int(5.3)"
   ]
  },
  {
   "cell_type": "code",
   "execution_count": 13,
   "metadata": {},
   "outputs": [
    {
     "output_type": "execute_result",
     "data": {
      "text/plain": "9"
     },
     "metadata": {},
     "execution_count": 13
    }
   ],
   "source": [
    "int(9.3413624624532342)"
   ]
  },
  {
   "source": [
    "## Converting Numbers to Strings<br>\n",
    "We can use the str() function to convert a number to a string. All digits or dots that make up the number will be converted to a character.\n"
   ],
   "cell_type": "markdown",
   "metadata": {}
  },
  {
   "cell_type": "code",
   "execution_count": 14,
   "metadata": {},
   "outputs": [
    {
     "output_type": "execute_result",
     "data": {
      "text/plain": "5135142135346"
     },
     "metadata": {},
     "execution_count": 14
    }
   ],
   "source": [
    "a = \"5135142135346\"\n",
    "b = int(a)\n",
    "b"
   ]
  },
  {
   "source": [
    "## Converting Strings to Integers<br>\n",
    "When we want to convert a string to an integer, we can use the int() function. However, we have to be a little careful. While doing the conversion, we must make sure that each character of the string is a digit.\n"
   ],
   "cell_type": "markdown",
   "metadata": {}
  },
  {
   "cell_type": "code",
   "execution_count": 15,
   "metadata": {},
   "outputs": [
    {
     "output_type": "execute_result",
     "data": {
      "text/plain": "'3.1431256'"
     },
     "metadata": {},
     "execution_count": 15
    }
   ],
   "source": [
    "a = \"3.1431256\"\n",
    "b = float(a)\n",
    "a"
   ]
  }
 ]
}