{
 "nbformat": 4,
 "nbformat_minor": 2,
 "metadata": {
  "language_info": {
   "name": "python",
   "codemirror_mode": {
    "name": "ipython",
    "version": 3
   }
  },
  "orig_nbformat": 2,
  "file_extension": ".py",
  "mimetype": "text/x-python",
  "name": "python",
  "npconvert_exporter": "python",
  "pygments_lexer": "ipython3",
  "version": 3
 },
 "cells": [
  {
   "source": [
    "# Strings<br>\n",
    "We will try to learn about strings in this regard.<br>\n",
    "Strings, which are a data type in Python, are the same as the texts we use in real life. This data type is actually a string, each of which is a character.<br>\n",
    "For example, the string \"Julia\" consists of the letters J,u,l,i,a or characters respectively.<br>\n",
    "In this topic, we will try to see strings and their properties.<br><br>\n",
    "\n",
    "## String Generation\n",
    "There are many ways to create strings in Python. Which of these you use is entirely up to you."
   ],
   "cell_type": "markdown",
   "metadata": {}
  },
  {
   "cell_type": "code",
   "execution_count": null,
   "metadata": {},
   "outputs": [],
   "source": [
    "#with single quotes\n",
    "'I love Python'\n",
    "#with double quotes\n",
    "\"I love Python\"\n",
    "#with three quotes\n",
    "\"\"\"I love Python\"\"\"\n",
    "\n",
    "# The point we need to pay attention to here is that if we are going to create it with a double quote, we should end the the string with a double quote."
   ]
  },
  {
   "source": [
    "## String Indexing and Fragmentation<br>\n",
    "Since strings are strings of characters, each character actually has a place in the string.<br>\n",
    "For example, the locations of the characters J,u,l,i,a in the string \"Julia\" are called indexes. Indexing of strings in Python and generally in most programming languages starts from \"0\".<br>\n",
    "Now let's look at how to access characters in a string via index."
   ],
   "cell_type": "markdown",
   "metadata": {}
  },
  {
   "cell_type": "code",
   "execution_count": null,
   "metadata": {},
   "outputs": [],
   "source": [
    "# Let's try to get to element 0. We will use the [] operator for this.\n",
    "string = \"Julia\"\n",
    "print(string[0])"
   ]
  },
  {
   "cell_type": "code",
   "execution_count": null,
   "metadata": {},
   "outputs": [],
   "source": [
    "print(string[1])"
   ]
  },
  {
   "cell_type": "code",
   "execution_count": null,
   "metadata": {},
   "outputs": [],
   "source": [
    "print(string[2])"
   ]
  },
  {
   "cell_type": "code",
   "execution_count": null,
   "metadata": {},
   "outputs": [],
   "source": [
    "# So what do we do to get only a certain part of a long string? We will use indexes,\":\" and \"[]\" for this. \n",
    "# Our formula is as follows;\n",
    "\n",
    "# [start index : end index : skip value]\n",
    "i = \"Programming Languages\"\n",
    "print(i[3:10]) # Start from index 3 to index 10 (not included)"
   ]
  },
  {
   "source": [
    "print(i[:10]) # Retrieves from the beginning if no initial value is specified."
   ],
   "cell_type": "code",
   "metadata": {},
   "execution_count": null,
   "outputs": []
  },
  {
   "cell_type": "code",
   "execution_count": null,
   "metadata": {},
   "outputs": [],
   "source": [
    "print(i[3:]) # Retrieves to the very end if no end value is specified."
   ]
  },
  {
   "cell_type": "code",
   "execution_count": null,
   "metadata": {},
   "outputs": [],
   "source": [
    "print(i[:]) # Get the whole string if neither value is specified."
   ]
  },
  {
   "cell_type": "code",
   "execution_count": null,
   "metadata": {},
   "outputs": [],
   "source": [
    "print(i[:-1]) # Get to the last character."
   ]
  },
  {
   "cell_type": "code",
   "execution_count": null,
   "metadata": {},
   "outputs": [],
   "source": [
    "print(i[3:10:2]) # Get the string by jumping 2 times from index 3 to index 10."
   ]
  },
  {
   "cell_type": "code",
   "execution_count": null,
   "metadata": {},
   "outputs": [],
   "source": [
    "print(i[::-1]) # Get the string, skipping -1 from start to finish. (Reverse String)"
   ]
  },
  {
   "source": [
    "## String Properties<br>\n",
    "How do we find the length of a string? There is a len() function in Python for this."
   ],
   "cell_type": "markdown",
   "metadata": {}
  },
  {
   "cell_type": "code",
   "execution_count": null,
   "metadata": {},
   "outputs": [],
   "source": [
    "a = \"My Python Class\"\n",
    "print(len(a))"
   ]
  },
  {
   "source": [
    "So, do you think it is possible to collect strings in Python? Let's see."
   ],
   "cell_type": "markdown",
   "metadata": {}
  },
  {
   "cell_type": "code",
   "execution_count": null,
   "metadata": {},
   "outputs": [],
   "source": [
    "a = \"My\"\n",
    "b = \"Python\"\n",
    "c = \"Class\"\n",
    "print(a + b + c)"
   ]
  },
  {
   "source": [
    "We can also multiply a number with a string."
   ],
   "cell_type": "markdown",
   "metadata": {}
  },
  {
   "cell_type": "code",
   "execution_count": null,
   "metadata": {},
   "outputs": [],
   "source": []
  }
 ]
}