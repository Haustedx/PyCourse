{
 "nbformat": 4,
 "nbformat_minor": 2,
 "metadata": {
  "language_info": {
   "name": "python",
   "codemirror_mode": {
    "name": "ipython",
    "version": 3
   }
  },
  "orig_nbformat": 2,
  "file_extension": ".py",
  "mimetype": "text/x-python",
  "name": "python",
  "npconvert_exporter": "python",
  "pygments_lexer": "ipython3",
  "version": 3
 },
 "cells": [
  {
   "source": [
    "# Programming Assignment - Basic Python Objects and Data Structures<br>\n",
    "\n",
    "You have successfully completed the section. Now it's time to do your homework to keep what you've learned in mind!<br><br>\n",
    "\n"
   ],
   "cell_type": "markdown",
   "metadata": {}
  },
  {
   "source": [
    "##Problem 1<br>\n",
    "Multiply the 3 numbers you get from the user and print them on the screen. Try to print to the screen with the format method.<br>\n",
    "\n",
    "##Problem 2<br>\n",
    "Find the user's body mass index based on the height and weight values you get from the user.<br>\n",
    "\n",
    "Body Mass Index: Weight / Height(m) Height(m)<br>\n",
    "\n",
    "##Problem 3<br>\n",
    "Get information about how much a vehicle has burned per kilometer and how many kilometers it has traveled, and calculate how much the driver must pay in total.<br>\n",
    "\n",
    "##Problem 4<br>\n",
    "Get the name, surname and number information from the user and print them on the screen one after the other.<br>\n",
    "\n",
    "##Problem 5<br>\n",
    "Ask the user for two numbers and exchange their values with each other.<br>\n",
    "\n",
    "##Problem 6<br>\n",
    "Take the two perpendicular sides (a, b) of a right-angled triangle from the user and try to find the length of the hypotenuse.<br>\n",
    "\n",
    "Hypotenuse Formula: a^2 + b^2 = c^2"
   ],
   "cell_type": "markdown",
   "metadata": {}
  }
 ]
}