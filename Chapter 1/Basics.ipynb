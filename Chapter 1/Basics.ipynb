{
 "nbformat": 4,
 "nbformat_minor": 2,
 "metadata": {
  "language_info": {
   "name": "python",
   "codemirror_mode": {
    "name": "ipython",
    "version": 3
   },
   "version": "2.7.17-final"
  },
  "orig_nbformat": 2,
  "file_extension": ".py",
  "mimetype": "text/x-python",
  "name": "python",
  "npconvert_exporter": "python",
  "pygments_lexer": "ipython3",
  "version": 3,
  "kernelspec": {
   "name": "python271764bitb55fe40516ea4b359f46ac7ea3d89591",
   "display_name": "Python 2.7.17 64-bit"
  }
 },
 "cells": [
  {
   "source": [
    "# Python Basics"
   ],
   "cell_type": "markdown",
   "metadata": {}
  },
  {
   "source": [
    "Let's start our journey by learning the numbers on Python.<br>\n",
    "Things we are going to learn on this section are.<br>\n",
    "1-Integer and Float Data Types<br>\n",
    "2-Basic Math Operators<br>\n",
    "3-Variable Definition<br>\n",
    "\n",
    "## Integers<br>\n",
    "All the numbers (negative, positive) we see in math are a data type in Python.<br>\n",
    "1,2,3,500,1000, 0, -500 can be given as examples to integers.<br>\n",
    "\n",
    "## Floats (Decimals)<br>\n",
    "Like integers, decimal numbers are one of the number types we see in mathematics. Decimal numbers are a data type in Python, just as they are in math.<br>\n",
    "3.14, 3.554546, -13.54  can be given as example of floats.<br>\n",
    "\n",
    "## Variables and Variable Definition<br>\n",
    "Variables are an essential concept in a programming language. Variables are actually units that hold values from a data type. If you want, let's create a variable in Python now.<br>\n",
    "\n",
    "\n",
    "\n",
    "\n",
    "\n",
    "\n",
    "\n",
    "    \n",
    "\n",
    "\n",
    "    \n"
   ],
   "cell_type": "markdown",
   "metadata": {}
  },
  {
   "cell_type": "code",
   "execution_count": 83,
   "metadata": {},
   "outputs": [
    {
     "output_type": "execute_result",
     "data": {
      "text/plain": "10"
     },
     "metadata": {},
     "execution_count": 83
    }
   ],
   "source": [
    "# Variable name and the value of the variable\n",
    "i = 10\n",
    "#Perfect, we created the variable, now let's see it on the screen\n",
    "i\n"
   ]
  },
  {
   "source": [
    "## Basic Math Operators<br>\n",
    "We all know the simple 4 operations (Addition, Subtraction, Multiplication, Division) from mathematics. Now let's try to see how these operations are done in Python.\n",
    "\n"
   ],
   "cell_type": "markdown",
   "metadata": {}
  },
  {
   "cell_type": "code",
   "execution_count": 84,
   "metadata": {},
   "outputs": [
    {
     "output_type": "execute_result",
     "data": {
      "text/plain": "7"
     },
     "metadata": {},
     "execution_count": 84
    }
   ],
   "source": [
    "#Addition\n",
    "3 + 4\n"
   ]
  },
  {
   "cell_type": "code",
   "execution_count": 85,
   "metadata": {},
   "outputs": [
    {
     "output_type": "execute_result",
     "data": {
      "text/plain": "-8"
     },
     "metadata": {},
     "execution_count": 85
    }
   ],
   "source": [
    "#Substraction\n",
    "5 - 13"
   ]
  },
  {
   "cell_type": "code",
   "execution_count": 86,
   "metadata": {},
   "outputs": [
    {
     "output_type": "execute_result",
     "data": {
      "text/plain": "60"
     },
     "metadata": {},
     "execution_count": 86
    }
   ],
   "source": [
    "#Multiplication\n",
    "5 * 12"
   ]
  },
  {
   "cell_type": "code",
   "execution_count": 87,
   "metadata": {},
   "outputs": [
    {
     "output_type": "execute_result",
     "data": {
      "text/plain": "2"
     },
     "metadata": {},
     "execution_count": 87
    }
   ],
   "source": [
    "#Division\n",
    "4 / 2"
   ]
  },
  {
   "source": [
    "Now Let's try the basic math operators with our own variables"
   ],
   "cell_type": "markdown",
   "metadata": {}
  },
  {
   "cell_type": "code",
   "execution_count": 88,
   "metadata": {},
   "outputs": [
    {
     "output_type": "execute_result",
     "data": {
      "text/plain": "10"
     },
     "metadata": {},
     "execution_count": 88
    }
   ],
   "source": [
    "a = 4\n",
    "b = 3\n",
    "c = a + 2*b #So what will be the value of the \"c\" variable here? In this operation, first the right-hand operation of the = operator is calculated, and then the calculated value is assigned to the variable c.\n",
    "c\n"
   ]
  },
  {
   "source": [
    "At the end of the brief basic lesson let's talk about the points we should pay attention to when naming our variables.<br><br>\n",
    "1. Variable names cannot start with a number.<br>\n",
    "2. If the variable name consists of words, there can be no spaces between them.<br>\n",
    "3. :'\",<>/?|\\()!@#$%^&*~-+ Symbols here cannot be used in variable name. (Only _ symbol can be used)<br>\n",
    "4. Keywords defined in Python cannot be used as variable names (while, not etc.)<br>"
   ],
   "cell_type": "markdown",
   "metadata": {}
  },
  {
   "cell_type": "code",
   "execution_count": 89,
   "metadata": {},
   "outputs": [],
   "source": [
    "# i$ = 3 #Incorrect (Delete the # before i and run the code to see the error.)"
   ]
  },
  {
   "source": [
    "## Hint<br>\n",
    "There is a practical method in Python for increasing the value of a variable. Let's look at the code below.\n"
   ],
   "cell_type": "markdown",
   "metadata": {}
  },
  {
   "cell_type": "code",
   "execution_count": 90,
   "metadata": {},
   "outputs": [
    {
     "output_type": "execute_result",
     "data": {
      "text/plain": "6"
     },
     "metadata": {},
     "execution_count": 90
    }
   ],
   "source": [
    "a = 5\n",
    "a = a + 1\n",
    "a"
   ]
  },
  {
   "cell_type": "code",
   "execution_count": 91,
   "metadata": {},
   "outputs": [
    {
     "output_type": "execute_result",
     "data": {
      "text/plain": "6"
     },
     "metadata": {},
     "execution_count": 91
    }
   ],
   "source": [
    "a = 5\n",
    "a += 1 # it is the same with a = a + 1\n",
    "a"
   ]
  },
  {
   "cell_type": "code",
   "execution_count": 92,
   "metadata": {},
   "outputs": [
    {
     "output_type": "execute_result",
     "data": {
      "text/plain": "33"
     },
     "metadata": {},
     "execution_count": 92
    }
   ],
   "source": [
    "b = 11\n",
    "b *= 3\n",
    "b"
   ]
  }
 ]
}