{
 "nbformat": 4,
 "nbformat_minor": 2,
 "metadata": {
  "language_info": {
   "name": "python",
   "codemirror_mode": {
    "name": "ipython",
    "version": 3
   },
   "version": "2.7.17-final"
  },
  "orig_nbformat": 2,
  "file_extension": ".py",
  "mimetype": "text/x-python",
  "name": "python",
  "npconvert_exporter": "python",
  "pygments_lexer": "ipython3",
  "version": 3,
  "kernelspec": {
   "name": "python271764bit15c73d910efa46cba78437e547ec097d",
   "display_name": "Python 2.7.17 64-bit"
  }
 },
 "cells": [
  {
   "source": [
    "# input() Function<br>\n",
    "It is very important to get input from the user while programming. There is an input() function in Python that allows us to get input from the user.\n"
   ],
   "cell_type": "markdown",
   "metadata": {}
  },
  {
   "cell_type": "code",
   "execution_count": null,
   "metadata": {},
   "outputs": [],
   "source": [
    "# input() #When we run it, the input function expects an input from us."
   ]
  },
  {
   "cell_type": "code",
   "execution_count": null,
   "metadata": {},
   "outputs": [],
   "source": [
    "a = input(\"Please Enter a Number:\")\n",
    "print(\"Number Entered By User:\", a)\n",
    "#The value entered by the user is returned to us as a string from the input function."
   ]
  },
  {
   "cell_type": "code",
   "execution_count": null,
   "metadata": {},
   "outputs": [],
   "source": [
    "a = input(\"Please Enter a Number:\")\n",
    "print(type(a))\n",
    "#If we are going to operate with a number, we need to convert the data type with the float or int function to the value (string) we get from the user. "
   ]
  },
  {
   "cell_type": "code",
   "execution_count": null,
   "metadata": {},
   "outputs": [],
   "source": [
    "#Incorrect Example\n",
    "a = input(\"Please Enter a Number:\")\n",
    "print(a * 3) # Let's give a = 5 and we expect the outcome as 15 but it will be 555"
   ]
  },
  {
   "cell_type": "code",
   "execution_count": null,
   "metadata": {},
   "outputs": [],
   "source": [
    "#Correct Example\n",
    "a = int(input(\"Please Enter a Number:\")) #Data type conversion---> if you don't know about this please review basics.\n",
    "print(a * 3)"
   ]
  },
  {
   "cell_type": "code",
   "execution_count": null,
   "metadata": {},
   "outputs": [],
   "source": [
    "# Let's code a basic program\n",
    "a = int(input(\"First Number:\"))\n",
    "b = int(input(\"Second Number:\"))\n",
    "c = int(input(\"Third Number:\"))\n",
    "\n",
    "print(\":\",a+b+c)"
   ]
  }
 ]
}