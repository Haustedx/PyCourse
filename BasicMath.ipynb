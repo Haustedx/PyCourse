{
 "nbformat": 4,
 "nbformat_minor": 2,
 "metadata": {
  "language_info": {
   "name": "python",
   "codemirror_mode": {
    "name": "ipython",
    "version": 3
   },
   "version": "2.7.17-final"
  },
  "orig_nbformat": 2,
  "file_extension": ".py",
  "mimetype": "text/x-python",
  "name": "python",
  "npconvert_exporter": "python",
  "pygments_lexer": "ipython3",
  "version": 3,
  "kernelspec": {
   "name": "python271764bitb55fe40516ea4b359f46ac7ea3d89591",
   "display_name": "Python 2.7.17 64-bit"
  }
 },
 "cells": [
  {
   "source": [
    "# Math Operators <br>\n",
    "Welcome back!<br>\n",
    "Mathematical operators are very important in Python and other programming languages. In this topic, we will learn more about mathematical operators in Python.<br>\n",
    "\n",
    "\n"
   ],
   "cell_type": "markdown",
   "metadata": {}
  },
  {
   "source": [
    "## Addition (+)<br>\n",
    "Addition can be done in Python as follows.\n"
   ],
   "cell_type": "markdown",
   "metadata": {}
  },
  {
   "cell_type": "code",
   "execution_count": 91,
   "metadata": {},
   "outputs": [
    {
     "output_type": "execute_result",
     "data": {
      "text/plain": "29"
     },
     "metadata": {},
     "execution_count": 91
    }
   ],
   "source": [
    "a = 14\n",
    "b = 15\n",
    "a + b"
   ]
  },
  {
   "cell_type": "code",
   "execution_count": 92,
   "metadata": {},
   "outputs": [
    {
     "output_type": "execute_result",
     "data": {
      "text/plain": "7.9"
     },
     "metadata": {},
     "execution_count": 92
    }
   ],
   "source": [
    "i =  3.1\n",
    "j  = 4.8\n",
    "i+j"
   ]
  },
  {
   "source": [
    "## Substraction (-)<br>\n",
    "Substraction can be done in Python as follows.\n"
   ],
   "cell_type": "markdown",
   "metadata": {}
  },
  {
   "cell_type": "code",
   "execution_count": 93,
   "metadata": {},
   "outputs": [
    {
     "output_type": "execute_result",
     "data": {
      "text/plain": "-47"
     },
     "metadata": {},
     "execution_count": 93
    }
   ],
   "source": [
    "a =  28\n",
    "b = 35\n",
    "c = 40\n",
    "a-b-c"
   ]
  },
  {
   "cell_type": "code",
   "execution_count": 94,
   "metadata": {},
   "outputs": [
    {
     "output_type": "execute_result",
     "data": {
      "text/plain": "-2.6999999999999997"
     },
     "metadata": {},
     "execution_count": 94
    }
   ],
   "source": [
    "k = 3.1\n",
    "l = 5.8\n",
    "k -l"
   ]
  },
  {
   "source": [
    "## Multiplication (*)<br>\n",
    "Multiplication can be done in Python as follows.\n"
   ],
   "cell_type": "markdown",
   "metadata": {}
  },
  {
   "cell_type": "code",
   "execution_count": 95,
   "metadata": {},
   "outputs": [
    {
     "output_type": "execute_result",
     "data": {
      "text/plain": "20"
     },
     "metadata": {},
     "execution_count": 95
    }
   ],
   "source": [
    "a = 4\n",
    "b = 5\n",
    "a *b"
   ]
  },
  {
   "cell_type": "code",
   "execution_count": 96,
   "metadata": {},
   "outputs": [
    {
     "output_type": "execute_result",
     "data": {
      "text/plain": "14.13"
     },
     "metadata": {},
     "execution_count": 96
    }
   ],
   "source": [
    "i = 3.14\n",
    "j = 4.5\n",
    "i *j"
   ]
  },
  {
   "source": [
    "## Division (/)<br>\n",
    "Division can be done in Python as follows."
   ],
   "cell_type": "markdown",
   "metadata": {}
  },
  {
   "cell_type": "code",
   "execution_count": 97,
   "metadata": {},
   "outputs": [
    {
     "output_type": "execute_result",
     "data": {
      "text/plain": "2"
     },
     "metadata": {},
     "execution_count": 97
    }
   ],
   "source": [
    "4 / 2"
   ]
  },
  {
   "cell_type": "code",
   "execution_count": 98,
   "metadata": {},
   "outputs": [
    {
     "output_type": "execute_result",
     "data": {
      "text/plain": "3"
     },
     "metadata": {},
     "execution_count": 98
    }
   ],
   "source": [
    "22 / 7\n"
   ]
  },
  {
   "source": [
    "## Residue (%)<br>\n",
    "This operator also allows us to find the remainder of dividing a number by another number.\n"
   ],
   "cell_type": "markdown",
   "metadata": {}
  },
  {
   "cell_type": "code",
   "execution_count": 99,
   "metadata": {},
   "outputs": [
    {
     "output_type": "execute_result",
     "data": {
      "text/plain": "1"
     },
     "metadata": {},
     "execution_count": 99
    }
   ],
   "source": [
    "13 % 4"
   ]
  },
  {
   "cell_type": "code",
   "execution_count": 100,
   "metadata": {},
   "outputs": [
    {
     "output_type": "execute_result",
     "data": {
      "text/plain": "0"
     },
     "metadata": {},
     "execution_count": 100
    }
   ],
   "source": [
    "14 % 2"
   ]
  },
  {
   "source": [
    "Exponentation (**)<br>\n",
    "This operator allows us to find the power of a number. For example, it prints the power of the number to the left of the operator according to the number to the right."
   ],
   "cell_type": "markdown",
   "metadata": {}
  },
  {
   "cell_type": "code",
   "execution_count": 101,
   "metadata": {},
   "outputs": [
    {
     "output_type": "execute_result",
     "data": {
      "text/plain": "64"
     },
     "metadata": {},
     "execution_count": 101
    }
   ],
   "source": [
    "4 ** 3"
   ]
  },
  {
   "source": [
    "# Using operators together and Order of operations<br>\n",
    "How can we use all these things we learned together? For this, we will be very comfortable if we know the order of operations in mathematics, because the order of operations in Python is exactly the same as in mathematics. What is this sequence of operations? The rules are:<br><br>\n",
    "1. Parentheses are always done first.<br>\n",
    "2. Multiplication and Division are always done first over Addition and Subtraction.<br>\n",
    "3. Transactions are evaluated from left to right.<br>\n"
   ],
   "cell_type": "markdown",
   "metadata": {}
  },
  {
   "cell_type": "code",
   "execution_count": 102,
   "metadata": {},
   "outputs": [
    {
     "output_type": "execute_result",
     "data": {
      "text/plain": "-4"
     },
     "metadata": {},
     "execution_count": 102
    }
   ],
   "source": [
    "8 + 4 * 3 /2 - 18"
   ]
  }
 ]
}