{
 "nbformat": 4,
 "nbformat_minor": 2,
 "metadata": {
  "language_info": {
   "name": "python",
   "codemirror_mode": {
    "name": "ipython",
    "version": 3
   }
  },
  "orig_nbformat": 2,
  "file_extension": ".py",
  "mimetype": "text/x-python",
  "name": "python",
  "npconvert_exporter": "python",
  "pygments_lexer": "ipython3",
  "version": 3
 },
 "cells": [
  {
   "source": [
    "# Object Oriented Programming<br>\n",
    "\n",
    "With this topic, we will have a brief entrance to Object Oriented Programming and in this topic we will talk a little bit about Object Oriented programming. Object Oriented Programming or Object Oriented Programming can be thought of as adapting real life programming in its most basic sense.<br><br>\n",
    "\n",
    "## What is Object?<br>\n",
    "When we look around, we see that most of the stuff thats around is an object. For example a bluetooth speaker is an object with its own functions(methods) and attributes. Its brand and buttons are attributes. When we push the power button the speaker opens or closes this is its function. It is almost the same in python. "
   ],
   "cell_type": "markdown",
   "metadata": {}
  },
  {
   "cell_type": "code",
   "execution_count": null,
   "metadata": {},
   "outputs": [],
   "source": [
    "our_list = [1,2,3,4,5] # List is an object here\n",
    "our_list.append(6)     # Append is a function (method) here"
   ]
  },
  {
   "source": [
    "# OOP - Classes<br>\n",
    "We will now start to produce our own data types and objects.<br>\n",
    "\n",
    "In order to create our own data types and produce objects from these data types, we first need to define the structure in which we will generate the objects. We call the structure we designed this as a class."
   ],
   "cell_type": "markdown",
   "metadata": {}
  },
  {
   "cell_type": "code",
   "execution_count": null,
   "metadata": {},
   "outputs": [],
   "source": [
    "# Let's create a new Car data type.\n",
    "class car():\n",
    "    brand = \"Ford\"\n",
    "    model = \"Mustang\"  # Attributes of our class\n",
    "    colour = \"Red\"\n",
    "    hp = 200\n",
    "    # We defined our class in Python. \n",
    "    #So how do we create an object from this class?\n",
    "\n",
    "our_car = car() # We created an object named \"our_car\" from the car data type.\n",
    "                # The our_car object now has all the attributes we defined in the class. \n",
    "                # This is how to create classes and objects.\n",
    "\n",
    "# So how can we see the properties of this car object?\n",
    "\n",
    "    # object_name.attribute_name\n",
    "    \n",
    "our_car.brand\n",
    "our_car.colour\n",
    "our_car.model"
   ]
  },
  {
   "cell_type": "code",
   "execution_count": null,
   "metadata": {},
   "outputs": [],
   "source": [
    "# So how can we see the properties of this car object?\n",
    "    # object_name.attribute_name\n",
    "our_car.brand\n",
    "our_car.colour\n",
    "our_car.model"
   ]
  },
  {
   "cell_type": "code",
   "execution_count": null,
   "metadata": {},
   "outputs": [],
   "source": []
  }
 ]
}