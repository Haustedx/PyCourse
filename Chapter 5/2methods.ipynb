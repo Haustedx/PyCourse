{
 "nbformat": 4,
 "nbformat_minor": 2,
 "metadata": {
  "language_info": {
   "name": "python",
   "codemirror_mode": {
    "name": "ipython",
    "version": 3
   }
  },
  "orig_nbformat": 2,
  "file_extension": ".py",
  "mimetype": "text/x-python",
  "name": "python",
  "npconvert_exporter": "python",
  "pygments_lexer": "ipython3",
  "version": 3
 },
 "cells": [
  {
   "source": [
    "# Object Oriented Programming - Methods<br>\n",
    "In the previous lesson we used __init__ method. Let's dive deeper on methods.\n"
   ],
   "cell_type": "markdown",
   "metadata": {}
  },
  {
   "cell_type": "code",
   "execution_count": null,
   "metadata": {},
   "outputs": [],
   "source": [
    "class employee():\n",
    "    def __init__(self,name,surname,age,gender):\n",
    "        self.name = name \n",
    "        self.surname = surname\n",
    "        self.age = age\n",
    "        self.gender = gender\n",
    "\n",
    "employee1 = employee(\"John\",\"Smith\",43,\"Male\")\n",
    "\n",
    "# We know how to do this from previous lesson. Just like we define the init method, we can define as many methods as we want in a class.\n"
   ]
  },
  {
   "cell_type": "code",
   "execution_count": null,
   "metadata": {},
   "outputs": [],
   "source": [
    "class employee():\n",
    "    def __init__(self,name,surname,age,gender):\n",
    "        self.name = name \n",
    "        self.surname = surname\n",
    "        self.age = age\n",
    "        self.gender = gender\n",
    "        self.salary = salary\n",
    "    def showinfo(self):\n",
    "        print(\"\"\"\n",
    "        Employee Info:\n",
    "        \n",
    "        Name :  {}\n",
    "        \n",
    "        Surname : {}\n",
    "        \n",
    "        Age: {}\n",
    "        \n",
    "        Gender :  {}\n",
    "\n",
    "        Salary :  {}\n",
    "        \"\"\".format(self.name,self.surname,self.age,self.gender,self.salary))\n",
    "employee2 = employee(\"Sarah\",\"Andersson\",27,\"Female\")\n",
    "\n",
    "employee2.showinfo()\n",
    "# By defining a method named show information here, we have printed the value of each of our properties on the screen in a tidy manner.\n",
    "# The point we need to pay attention to when writing our methods is that the first parameter of each method must be a \"self\" reference."
   ]
  },
  {
   "cell_type": "code",
   "execution_count": null,
   "metadata": {},
   "outputs": [],
   "source": [
    "# Let's add more methods \n",
    "class employee():\n",
    "    def __init__(self,name,surname,age,gender):\n",
    "        self.name = name \n",
    "        self.surname = surname\n",
    "        self.age = age\n",
    "        self.gender = gender\n",
    "        self.salary = salary\n",
    "    def showinfo(self):\n",
    "        print(\"\"\"\n",
    "        Employee Info:\n",
    "        \n",
    "        Name :  {}\n",
    "        \n",
    "        Surname : {}\n",
    "        \n",
    "        Age: {}\n",
    "        \n",
    "        Gender :  {}\n",
    "\n",
    "        Salary :  {}\n",
    "        \"\"\".format(self.name,self.surname,self.age,self.gender,self.salary))\n",
    "    def salary_raise(self,raise_amount):\n",
    "        print(\"Salary Raised\")\n",
    "        self.salary += 300\n",
    "\n",
    "employee3 = employee(\"Emily\",\"Verne\",23,\"Female\",4000)\n",
    "employee3.showinfo()"
   ]
  },
  {
   "cell_type": "code",
   "execution_count": null,
   "metadata": {},
   "outputs": [],
   "source": [
    "employee3.salary_raise(300)"
   ]
  }
 ]
}