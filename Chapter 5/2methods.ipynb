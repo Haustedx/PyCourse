{
 "nbformat": 4,
 "nbformat_minor": 2,
 "metadata": {
  "language_info": {
   "name": "python",
   "codemirror_mode": {
    "name": "ipython",
    "version": 3
   }
  },
  "orig_nbformat": 2,
  "file_extension": ".py",
  "mimetype": "text/x-python",
  "name": "python",
  "npconvert_exporter": "python",
  "pygments_lexer": "ipython3",
  "version": 3
 },
 "cells": [
  {
   "source": [
    "# Object Oriented Programming - Methods<br>\n",
    "In the previous lesson we used __init__ method. Let's dive deeper on methods.\n"
   ],
   "cell_type": "markdown",
   "metadata": {}
  },
  {
   "cell_type": "code",
   "execution_count": null,
   "metadata": {},
   "outputs": [],
   "source": [
    "class employee():\n",
    "    def __init__(self,name,surname,age,gender):\n",
    "        self.name = name \n",
    "        self.surname = surname\n",
    "        self.age = age\n",
    "        self.gender = gender\n",
    "\n",
    "employee1 = employee(\"John\",\"Smith\",43,\"Male\")\n",
    "\n",
    "# We know how to do this from previous lesson. Just like we define the init method, we can define as many methods as we want in a class.\n"
   ]
  },
  {
   "cell_type": "code",
   "execution_count": null,
   "metadata": {},
   "outputs": [],
   "source": [
    "class employee():\n",
    "    def __init__(self,name,surname,age,gender):\n",
    "        self.name = name \n",
    "        self.surname = surname\n",
    "        self.age = age\n",
    "        self.gender = gender\n",
    "    def showinfo(self):\n",
    "        pri"
   ]
  }
 ]
}