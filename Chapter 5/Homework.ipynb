{
 "nbformat": 4,
 "nbformat_minor": 2,
 "metadata": {
  "language_info": {
   "name": "python",
   "codemirror_mode": {
    "name": "ipython",
    "version": 3
   }
  },
  "orig_nbformat": 2,
  "file_extension": ".py",
  "mimetype": "text/x-python",
  "name": "python",
  "npconvert_exporter": "python",
  "pygments_lexer": "ipython3",
  "version": 3
 },
 "cells": [
  {
   "source": [
    "# Programming Assingment - Object Oriented Programming\n",
    "\n",
    "##Project 1\n",
    "\n",
    "## Project 2\n",
    "In this project, create 4 classes.\n",
    "\n",
    "Animal Class ------> It will be the class where the common characteristics of all animals are collected.\n",
    "\n",
    "Dog Class ------> This class will be a class that inherits from the animal class. Also add additional dog properties and methods to this class.\n",
    "\n",
    "Bird Class ------> This class will be a class that inherits from the animal class. Also add additional bird properties and methods to this class.\n",
    "\n",
    "Horse Class ------> This class will be a class that inherits from the animal class. Also add additional properties and methods of horses to this class."
   ],
   "cell_type": "markdown",
   "metadata": {}
  },
  {
   "cell_type": "code",
   "execution_count": null,
   "metadata": {},
   "outputs": [],
   "source": []
  }
 ]
}