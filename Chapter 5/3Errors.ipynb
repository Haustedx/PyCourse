{
 "nbformat": 4,
 "nbformat_minor": 2,
 "metadata": {
  "language_info": {
   "name": "python",
   "codemirror_mode": {
    "name": "ipython",
    "version": 3
   }
  },
  "orig_nbformat": 2,
  "file_extension": ".py",
  "mimetype": "text/x-python",
  "name": "python",
  "npconvert_exporter": "python",
  "pygments_lexer": "ipython3",
  "version": 3
 },
 "cells": [
  {
   "source": [
    "# Try - Except - Finally Blocks<br>\n",
    "## Try - Except\n",
    "The structure of try ,except blocks is as follows;\n",
    "\n",
    "                 try:\n",
    "\n",
    "                     Codes that may cause errors are written here.\n",
    "                     If an error occurs, the program will enter the appropriate except block.\n",
    "                     If an error occurs, the rest of the try block will not run.\n",
    "                 except Error1:\n",
    "                     This will work when error1 occurs.\n",
    "                 except Error2:\n",
    "                     This will work when error2 occurs.\n",
    "\n",
    "                     //\n",
    "                     //\n",
    "                     //\n",
    "Let's get to the examples."
   ],
   "cell_type": "markdown",
   "metadata": {}
  },
  {
   "cell_type": "code",
   "execution_count": null,
   "metadata": {},
   "outputs": [],
   "source": [
    "i = int(\"246246apple\") # This will give us a ValueError"
   ]
  },
  {
   "cell_type": "code",
   "execution_count": null,
   "metadata": {},
   "outputs": [],
   "source": [
    "try:\n",
    "    i =  int(\"246246apple\") # This will give us a ValueError\n",
    "    print(\"Our Program is Here\")\n",
    "except: # If we do not specify the error, all errors enter this section.\n",
    "    print(\"An error occurred\")  # This section will work\n",
    "    \n",
    "print(\"Blocks Expired\")\n",
    "\n",
    "# Since the code i =  int(\"246246apple\") was causing trouble here, the program exited this block and entered the except block directly and wrote \"Error occurred\". When the try ,except block finished, the program printed \"Blocks expired\"."
   ]
  },
  {
   "cell_type": "code",
   "execution_count": null,
   "metadata": {},
   "outputs": [],
   "source": [
    "try:\n",
    "    i =  int(\"61364\") # This will work without an error\n",
    "    print(\"Our Program is Here\")\n",
    "except: # If we do not specify the error, all errors enter this section.\n",
    "    print(\"An error occurred\")  # It didn't work because there was no error.\n",
    "    \n",
    "print(\"Blocks Expired\")"
   ]
  },
  {
   "cell_type": "code",
   "execution_count": null,
   "metadata": {},
   "outputs": [],
   "source": [
    "try:\n",
    "    a = int(input(\"Num1:\"))\n",
    "    b = int(input(\"Num2:\")) \n",
    "    print(a / b) \n",
    "except ValueError:\n",
    "    print(\"Please enter the inputs correctly.\")\n",
    "except ZeroDivisionError:\n",
    "    print(\"A number cannot be divided by 0.\")\n",
    "\n",
    "# First try to give a unnumbered value to one of the inputs and see the except ValueError block working.\n",
    "# Secondly give 0 (zero) to the Num2 and see that second expect block is working."
   ]
  },
  {
   "cell_type": "code",
   "execution_count": null,
   "metadata": {},
   "outputs": [],
   "source": [
    "# If we want, we can make these two errors written in the same except block.\n",
    "\n",
    "try:\n",
    "    a = int(input(\"Num1:\"))\n",
    "    b = int(input(\"Num2:\")) \n",
    "    print(a / b)\n",
    "except (ValueError,ZeroDivisionError):\n",
    "    print(\"ZeroDivision or ValueError\")"
   ]
  },
  {
   "source": [
    "## Finaly Block\n",
    "Sometimes our programs may have codes that we want to run in every situation. For this, we can add a finally block in addition to our own try,except blocks. finally blocks will always run if there is an error or not. Its structure is as follows;\n",
    "\n",
    "                 try:\n",
    "\n",
    "                     Codes that may cause errors are written here.\n",
    "                     If an error occurs, the program will enter the appropriate except block.\n",
    "                     If an error occurs, the rest of the try block will not run.\n",
    "                 except Error1:\n",
    "                     This will work when error1 occurs.\n",
    "                 except Error2:\n",
    "                     This will work when error2 occurs.\n",
    "\n",
    "                     //\n",
    "                     //\n",
    "                     //\n",
    "                 finally:\n",
    "                     Codes that must work will be written here.\n",
    "                     This block will work for anytime."
   ],
   "cell_type": "markdown",
   "metadata": {}
  },
  {
   "cell_type": "code",
   "execution_count": null,
   "metadata": {},
   "outputs": [],
   "source": [
    "try:\n",
    "    a = int(input(\"Num1:\"))\n",
    "    b = int(input(\"Num2:\")) \n",
    "    print(a / b) \n",
    "except ValueError:\n",
    "    print(\"Please enter the inputs correctly.\")\n",
    "except ZeroDivisionError:\n",
    "    print(\"A number cannot be divided by 0.\")\n",
    "finally:\n",
    "    print(\"Finally Block will work in any situation\")"
   ]
  },
  {
   "cell_type": "code",
   "execution_count": null,
   "metadata": {},
   "outputs": [],
   "source": []
  }
 ]
}