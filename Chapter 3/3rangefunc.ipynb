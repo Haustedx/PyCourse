{
 "nbformat": 4,
 "nbformat_minor": 2,
 "metadata": {
  "language_info": {
   "name": "python",
   "codemirror_mode": {
    "name": "ipython",
    "version": 3
   },
   "version": "2.7.17-final"
  },
  "orig_nbformat": 2,
  "file_extension": ".py",
  "mimetype": "text/x-python",
  "name": "python",
  "npconvert_exporter": "python",
  "pygments_lexer": "ipython3",
  "version": 3,
  "kernelspec": {
   "name": "python271764bitc4cd825cd0bc4d659c9ee3976ed350ea",
   "display_name": "Python 2.7.17 64-bit"
  }
 },
 "cells": [
  {
   "source": [
    "# range() Function<br>\n",
    "This built-in function in Python creates a structure named range according to the values we give, and this structure is very similar to lists. This structure creates a series of numbers that look like lists, taking a start, end, and optionally increment value."
   ],
   "cell_type": "markdown",
   "metadata": {}
  },
  {
   "cell_type": "code",
   "execution_count": 2,
   "metadata": {},
   "outputs": [
    {
     "output_type": "stream",
     "name": "stdout",
     "text": "[0, 1, 2, 3, 4, 5, 6, 7, 8, 9, 10, 11, 12, 13, 14, 15, 16, 17, 18, 19]\n"
    }
   ],
   "source": [
    "range(0,20) # Creates a sequence of numbers from 0 to 20 (20 not included).\n",
    "print(range(0,20))"
   ]
  },
  {
   "cell_type": "code",
   "execution_count": null,
   "metadata": {},
   "outputs": [],
   "source": [
    "print(*range(5,20,2)) # Forms numbers from 5 to 20 increasing by 2."
   ]
  },
  {
   "cell_type": "code",
   "execution_count": null,
   "metadata": {},
   "outputs": [],
   "source": [
    "print(*range(5,100,5)) # Numbers from 5 to 100 and divisible by 5"
   ]
  },
  {
   "cell_type": "code",
   "execution_count": null,
   "metadata": {},
   "outputs": [],
   "source": [
    "print(*range(20,0,-1)) # Backwards"
   ]
  },
  {
   "cell_type": "code",
   "execution_count": 3,
   "metadata": {},
   "outputs": [
    {
     "output_type": "stream",
     "name": "stdout",
     "text": "*\n**\n***\n****\n*****\n******\n*******\n********\n*********\n"
    }
   ],
   "source": [
    "for i in range(1,10):\n",
    "    print(\"*\" * i)"
   ]
  },
  {
   "source": [
    "# The Break Statement<br>\n",
    "The break statement is the most used statement by programmers in loops.<br><br>\n",
    "When the loop encounters a break statement anywhere and anytime, it abruptly stops executing. Thus, the loop is terminated without being bound by any conditions.<br>\n",
    "The break statement only ends the loop it is in. If there are nested loops and break is used in the innermost loop, only the inner loop terminates. Let's see to it."
   ],
   "cell_type": "markdown",
   "metadata": {}
  },
  {
   "cell_type": "code",
   "execution_count": null,
   "metadata": {},
   "outputs": [],
   "source": [
    "i = 0 \n",
    "while (i < 20):\n",
    "    print(i)\n",
    "    i += 1   \n",
    "    # We are familier with this loop."
   ]
  },
  {
   "cell_type": "code",
   "execution_count": null,
   "metadata": {},
   "outputs": [],
   "source": [
    "i = 0 \n",
    "while (i < 20):\n",
    "    print(i)\n",
    "    if (i == 10):\n",
    "        break # When the value of i is 10, this condition is met and the loop terminates immediately because the break statement                   is encountered.  \n",
    "    i += 1  "
   ]
  },
  {
   "cell_type": "code",
   "execution_count": null,
   "metadata": {},
   "outputs": [],
   "source": [
    "# Let's use break with a for loop\n",
    "our_list = [1,2,3,4,5,6,7,8,9]\n",
    "for i in our_list:\n",
    "    if (i == 5):\n",
    "        \n",
    "        break\n",
    "    print(i)"
   ]
  },
  {
   "cell_type": "code",
   "execution_count": null,
   "metadata": {},
   "outputs": [],
   "source": [
    "while True: # Endless loop. How can we end?\n",
    "    name = input(\"Your name(Press q to exit.):\")\n",
    "    if (name == \"q\"): \n",
    "        print(\"Checking out...\")\n",
    "        break\n",
    "    print(name)"
   ]
  },
  {
   "source": [
    "# The Continue Statement<br>\n",
    "The continue statement is slightly less used than the break statement.<br><br>\n",
    "When the loop encounters the continue statement anywhere and at any time, it returns directly to the beginning of its block without doing the rest. Let's see to it.\n"
   ],
   "cell_type": "markdown",
   "metadata": {}
  },
  {
   "cell_type": "code",
   "execution_count": null,
   "metadata": {},
   "outputs": [],
   "source": [
    "our_list = [1,2,3,4,5,6,7,8,9,10]\n",
    "\n",
    "for i in our_list: # We are familiar with this loop.\n",
    "    print(\"i:\",i)"
   ]
  },
  {
   "cell_type": "code",
   "execution_count": 4,
   "metadata": {},
   "outputs": [
    {
     "output_type": "stream",
     "name": "stdout",
     "text": "('i:', 1)\n('i:', 2)\n('i:', 4)\n('i:', 6)\n('i:', 7)\n('i:', 8)\n('i:', 9)\n('i:', 10)\n"
    }
   ],
   "source": [
    "our_list = [1,2,3,4,5,6,7,8,9,10]\n",
    "\n",
    "for i in our_list: # We are familiar with this loop.\n",
    "    if (i == 3 or i == 5):\n",
    "        continue\n",
    "    print(\"i:\",i)"
   ]
  },
  {
   "source": [
    "# List Comprehension<br>\n",
    "We will learn about \"List Comprehension\", which is a very practical method in Python to produce and create lists. You know, we can handle many things in Python with very short codes. However, we always want to shorten the codes and use practical methods."
   ],
   "cell_type": "markdown",
   "metadata": {}
  },
  {
   "cell_type": "code",
   "execution_count": 1,
   "metadata": {},
   "outputs": [
    {
     "output_type": "stream",
     "name": "stdout",
     "text": "[6, 7, 1, 2, 3, 4, 5]\n"
    }
   ],
   "source": [
    "# Let's remember append method\n",
    "list1 = [1,2,3,4,5]\n",
    "list2 = [6,7]\n",
    "for i in list1:\n",
    "    list2.append(i)\n",
    "print(list2)"
   ]
  },
  {
   "cell_type": "code",
   "execution_count": 3,
   "metadata": {},
   "outputs": [
    {
     "output_type": "stream",
     "name": "stdout",
     "text": "[1, 2, 3, 4, 5]\n"
    }
   ],
   "source": [
    "# Can we make our code more practical with list comprehension?\n",
    "list1 = [1,2,3,4,5]\n",
    "list2 = [6,7]\n",
    "list2 = [i for i in list1]\n",
    "print(list2)"
   ]
  },
  {
   "cell_type": "code",
   "execution_count": null,
   "metadata": {},
   "outputs": [],
   "source": []
  }
 ]
}