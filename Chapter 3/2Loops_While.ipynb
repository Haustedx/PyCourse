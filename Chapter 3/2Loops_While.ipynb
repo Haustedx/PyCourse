{
 "nbformat": 4,
 "nbformat_minor": 2,
 "metadata": {
  "language_info": {
   "name": "python",
   "codemirror_mode": {
    "name": "ipython",
    "version": 3
   },
   "version": "2.7.17-final"
  },
  "orig_nbformat": 2,
  "file_extension": ".py",
  "mimetype": "text/x-python",
  "name": "python",
  "npconvert_exporter": "python",
  "pygments_lexer": "ipython3",
  "version": 3,
  "kernelspec": {
   "name": "python271764bitaea4ca9f1e5e4005a44528a810756430",
   "display_name": "Python 2.7.17 64-bit"
  }
 },
 "cells": [
  {
   "source": [
    "# While Loops<br>\n",
    "In this section, we will try to learn the structure of while loops and how to use them.<br><br>\n",
    "\n",
    "while loops continue to perform operations in their block as long as a certain condition is met. For while loops to terminate, the conditional state must be False after a while."
   ],
   "cell_type": "markdown",
   "metadata": {}
  },
  {
   "cell_type": "code",
   "execution_count": null,
   "metadata": {},
   "outputs": [],
   "source": [
    "# Let's print i values in the loop.\n",
    "i = 0\n",
    "while (i<10):\n",
    "    print(\"The Value of i:\", i)\n",
    "    i += 1 #Do not forget this, we need this for the loop to be False after a while."
   ]
  },
  {
   "cell_type": "code",
   "execution_count": 3,
   "metadata": {},
   "outputs": [
    {
     "output_type": "stream",
     "name": "stdout",
     "text": "('Index:', 0, 'Variable:', 1)\n('Index:', 1, 'Variable:', 2)\n('Index:', 2, 'Variable:', 3)\n('Index:', 3, 'Variable:', 4)\n('Index:', 4, 'Variable:', 5)\n"
    }
   ],
   "source": [
    "# Navigating the list with index\n",
    "our_list = [1,2,3,4,5]\n",
    "i = 0\n",
    "while (i < len(our_list)):\n",
    "    print(\"Index:\",i , \"Variable:\", our_list[i])\n",
    "    i += 1"
   ]
  },
  {
   "source": [
    "## Infinite Loops<br>\n",
    "It is useful to be a little careful when using the while loop. Because the while loop condition will need to be False after a while so that our loop can end. However, if we forget this in while loops, our loop will run forever. We call this the infinite loop event. Let's look at our example."
   ],
   "cell_type": "markdown",
   "metadata": {}
  },
  {
   "cell_type": "code",
   "execution_count": null,
   "metadata": {},
   "outputs": [],
   "source": [
    "i = 0\n",
    "while (i < 10):\n",
    "    print(i)\n",
    "    # Since we do not increment the i variable, the value of the i variable remains 0 all the time.\n",
    "    # and the loop condition always stays True."
   ]
  }
 ]
}