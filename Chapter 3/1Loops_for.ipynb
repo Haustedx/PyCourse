{
 "nbformat": 4,
 "nbformat_minor": 2,
 "metadata": {
  "language_info": {
   "name": "python",
   "codemirror_mode": {
    "name": "ipython",
    "version": 3
   },
   "version": "2.7.17-final"
  },
  "orig_nbformat": 2,
  "file_extension": ".py",
  "mimetype": "text/x-python",
  "name": "python",
  "npconvert_exporter": "python",
  "pygments_lexer": "ipython3",
  "version": 3,
  "kernelspec": {
   "name": "python271764bitaea4ca9f1e5e4005a44528a810756430",
   "display_name": "Python 2.7.17 64-bit"
  }
 },
 "cells": [
  {
   "source": [
    "# Loops<br>\n",
    "## Overview for Loops<br>\n",
    "\n",
    "In the programs we have written so far, the programs we have written were running once and ending. However, we often want our programs to continue working under certain conditions and to repeat their operations. Here are the structures that allow us to do these things we call loops.<br><br>\n",
    "\n",
    "Loops are structures that are found in all programming languages ​​and that repeat their operations under certain conditions. If you want, let's try to understand the loop logic by looking at real-life programs.<br><br>\n",
    "\n",
    "For example, you go to the ATM machine and insert your card and the program starts. You repeatedly perform transactions such as Withdrawal, Deposit, Paying Taxes. The program ends with the Card Return option. In other words, the ATM machine continues to work as long as you do not press the Return Card button. Looking at this, we can actually say that the ATM machine uses loop structures.<br><br>\n",
    "\n",
    "Let's consider another example. For example, you are logging into a site. As long as we enter the wrong username and password, the program constantly asks us for the username and password. The program ends when we enter the correct username and password. Again, you might think that loop structures are used here.<br><br>\n",
    "\n",
    "Now, with this section, we will be able to write our programs more effectively by using while and for loops in Python."
   ],
   "cell_type": "markdown",
   "metadata": {}
  },
  {
   "source": [
    "#"
   ],
   "cell_type": "markdown",
   "metadata": {}
  },
  {
   "source": [
    "# For Loops<br>\n",
    "Before going deep into the for loops let's have a look at an operator that will help us though the way.<br><br>\n",
    "## in Operator<br>\n",
    "The in operator in Python checks whether an element exists in another list, tuple, or string.\n"
   ],
   "cell_type": "markdown",
   "metadata": {}
  },
  {
   "cell_type": "code",
   "execution_count": 1,
   "metadata": {},
   "outputs": [
    {
     "output_type": "execute_result",
     "data": {
      "text/plain": "True"
     },
     "metadata": {},
     "execution_count": 1
    }
   ],
   "source": [
    "\"y\" in \"Python\""
   ]
  },
  {
   "cell_type": "code",
   "execution_count": null,
   "metadata": {},
   "outputs": [],
   "source": [
    "3 in [1,2,3,4,5]"
   ]
  },
  {
   "cell_type": "code",
   "execution_count": null,
   "metadata": {},
   "outputs": [],
   "source": [
    "7 in [1,2,3,4,5]"
   ]
  },
  {
   "source": [
    "## For Loop<br>\n",
    "The for Loop is a type of loop that allows us to loop over lists, tuples, strings, and even dictionaries.The loop tells us that element variable at the beginning of each loop list, tuple, etc. will be equal to each element and this element will be processed in each loop. <br>\n",
    "## Looping Through Lists\n"
   ],
   "cell_type": "markdown",
   "metadata": {}
  },
  {
   "cell_type": "code",
   "execution_count": 3,
   "metadata": {},
   "outputs": [
    {
     "output_type": "stream",
     "name": "stdout",
     "text": "('Element', 1)\n('Element', 2)\n('Element', 3)\n('Element', 4)\n('Element', 5)\n('Element', 6)\n('Element', 7)\n"
    }
   ],
   "source": [
    "list = [1,2,3,4,5,6,7]\n",
    "for val in list:\n",
    "    print(\"Element\",val)"
   ]
  },
  {
   "source": [
    "## Looping Through Strings"
   ],
   "cell_type": "markdown",
   "metadata": {}
  },
  {
   "cell_type": "code",
   "execution_count": null,
   "metadata": {},
   "outputs": [],
   "source": [
    "x = \"Python\"\n",
    "for character in x:\n",
    "    print(character)"
   ]
  },
  {
   "cell_type": "code",
   "execution_count": null,
   "metadata": {},
   "outputs": [],
   "source": [
    "#Let's multiply the characters with 3\n",
    "x = \"Python\"\n",
    "for character in x:\n",
    "    print(character * 3)"
   ]
  },
  {
   "source": [
    "## Looping Through Tuples<br>\n",
    "Same logic as the lists. Let's see to it."
   ],
   "cell_type": "markdown",
   "metadata": {}
  },
  {
   "cell_type": "code",
   "execution_count": null,
   "metadata": {},
   "outputs": [],
   "source": [
    "y = (1,2,3,4,5,6,7,8,9)\n",
    "for number in x:\n",
    "    print(numbers)"
   ]
  },
  {
   "cell_type": "code",
   "execution_count": null,
   "metadata": {},
   "outputs": [],
   "source": [
    "z = [(1,2),(3,4)(5,6)(7,8)]\n",
    "for i in z:\n",
    "    print(i)"
   ]
  }
 ]
}