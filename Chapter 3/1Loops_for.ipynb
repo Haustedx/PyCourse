{
 "nbformat": 4,
 "nbformat_minor": 2,
 "metadata": {
  "language_info": {
   "name": "python",
   "codemirror_mode": {
    "name": "ipython",
    "version": 3
   }
  },
  "orig_nbformat": 2,
  "file_extension": ".py",
  "mimetype": "text/x-python",
  "name": "python",
  "npconvert_exporter": "python",
  "pygments_lexer": "ipython3",
  "version": 3
 },
 "cells": [
  {
   "source": [
    "# Loops<br>\n",
    "## Overview for Loops<br>\n",
    "\n",
    "In the programs we have written so far, the programs we have written were running once and ending. However, we often want our programs to continue working under certain conditions and to repeat their operations. Here are the structures that allow us to do these things we call loops.<br><br>\n",
    "\n",
    "Loops are structures that are found in all programming languages ​​and that repeat their operations under certain conditions. If you want, let's try to understand the loop logic by looking at real-life programs.<br><br>\n",
    "\n",
    "For example, you go to the ATM machine and insert your card and the program starts. You repeatedly perform transactions such as Withdrawal, Deposit, Paying Taxes. The program ends with the Card Return option. In other words, the ATM machine continues to work as long as you do not press the Return Card button. Looking at this, we can actually say that the ATM machine uses loop structures.<br><br>\n",
    "\n",
    "Let's consider another example. For example, you are logging into a site. As long as we enter the wrong username and password, the program constantly asks us for the username and password. The program ends when we enter the correct username and password. Again, you might think that loop structures are used here.<br><br>\n",
    "\n",
    "Now, with this section, we will be able to write our programs more effectively by using while and for loops in Python."
   ],
   "cell_type": "markdown",
   "metadata": {}
  },
  {
   "source": [
    "#"
   ],
   "cell_type": "markdown",
   "metadata": {}
  }
 ]
}