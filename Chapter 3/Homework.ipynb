{
 "nbformat": 4,
 "nbformat_minor": 2,
 "metadata": {
  "language_info": {
   "name": "python",
   "codemirror_mode": {
    "name": "ipython",
    "version": 3
   }
  },
  "orig_nbformat": 2,
  "file_extension": ".py",
  "mimetype": "text/x-python",
  "name": "python",
  "npconvert_exporter": "python",
  "pygments_lexer": "ipython3",
  "version": 3
 },
 "cells": [
  {
   "source": [
    "Problem 3\n",
    "Try to print a multiplication table with numbers from 1 to 10.\n",
    "\n",
    "Hint: Use 2 nested for loops. Also get the numbers using the range() function.\n",
    "\n",
    "Problem 4\n",
    "In each while loop, take a number from the user and add the numbers entered by the user to a variable named \"sum\". When the user presses the \"q\" key, terminate the loop and print the \"sum variable\" to the screen.\n",
    "\n",
    "Hint: start the while loop with the infinite condition, and if the user presses q, end the loop with break.\n",
    "\n",
    "Problem 5\n",
    "Print only the numbers divisible by 3 from the numbers from 1 to 100. Try to do this with continue."
   ],
   "cell_type": "markdown",
   "metadata": {}
  }
 ]
}