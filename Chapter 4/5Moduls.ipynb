{
 "nbformat": 4,
 "nbformat_minor": 2,
 "metadata": {
  "language_info": {
   "name": "python",
   "codemirror_mode": {
    "name": "ipython",
    "version": 3
   }
  },
  "orig_nbformat": 2,
  "file_extension": ".py",
  "mimetype": "text/x-python",
  "name": "python",
  "npconvert_exporter": "python",
  "pygments_lexer": "ipython3",
  "version": 3
 },
 "cells": [
  {
   "source": [
    "# What is Modules<br>\n",
    "In Python, each file is a module, and each module contains functions, classes, and objects. By including these modules in our program, we can benefit from the functions, classes and objects in them.<br><br>\n",
    "\n",
    "To make a real-life analogy, the formula book we use while doing a math homework can actually be thought of as a module. By using this book while doing homework, we can finish our homework very quickly and practically.<br><br>\n",
    "\n",
    "In Python, the concept of module is a very important concept. By including a Python module in our program, we can use the functions and classes written in these modules and write our programs more effectively. If there was no such thing as a module, we would have to write every function and class in our programs ourselves.<br><br>\n",
    "\n",
    "There are many ready-made modules written by Python developers in Python. In addition, we can use many modules that programmers have uploaded to the internet and Github in our programs and we can write better programs.<br>\n",
    "\n",
    "# How to Use Modules - Math Module<br>\n",
    "To import a module and include it in our program, we can write import module_name. Let's import the math module for now."
   ],
   "cell_type": "markdown",
   "metadata": {}
  },
  {
   "cell_type": "code",
   "execution_count": null,
   "metadata": {},
   "outputs": [],
   "source": [
    "import math # We import the module. Now we can use all the functions of this module.\n",
    "dir(math)   # We can use the dir function to see the contents of the Math module."
   ]
  },
  {
   "cell_type": "code",
   "execution_count": null,
   "metadata": {},
   "outputs": [],
   "source": [
    "help(math)  # We can use the help function to see the functions of the functions."
   ]
  },
  {
   "cell_type": "code",
   "execution_count": null,
   "metadata": {},
   "outputs": [],
   "source": [
    "# help(module_name.function_name)  \n",
    "help(math.factorial) # We can see what the factorial function in math module does."
   ]
  },
  {
   "cell_type": "code",
   "execution_count": null,
   "metadata": {},
   "outputs": [],
   "source": [
    "# Another method for importing Modules\n",
    "# from module_name import function_name\n",
    "from math import "
   ]
  }
 ]
}