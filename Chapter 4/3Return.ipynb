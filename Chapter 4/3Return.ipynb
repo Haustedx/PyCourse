{
 "nbformat": 4,
 "nbformat_minor": 2,
 "metadata": {
  "language_info": {
   "name": "python",
   "codemirror_mode": {
    "name": "ipython",
    "version": 3
   }
  },
  "orig_nbformat": 2,
  "file_extension": ".py",
  "mimetype": "text/x-python",
  "name": "python",
  "npconvert_exporter": "python",
  "pygments_lexer": "ipython3",
  "version": 3
 },
 "cells": [
  {
   "source": [
    "# Return Statement in Functions<br>\n",
    "In this topic, we will try to see the return statement, which allows us to return values from functions. If we remember the functions we wrote in the previous section, these functions were only printing values to the screen with print. However, these functions did not give us any value.<br>\n",
    "Later on we may want to take the values obtained as a result of a function in our programs and use them in different parts of our programs.<br><br>\n",
    "The return statement means that the function returns a value to the place where it was called after its execution. Thus, we can store the value we get in the function in a variable and use the value elsewhere in the program.<br>\n",
    "Now let's write two very simple functions and try to understand why return is necessary."
   ],
   "cell_type": "markdown",
   "metadata": {}
  },
  {
   "cell_type": "code",
   "execution_count": null,
   "metadata": {},
   "outputs": [],
   "source": [
    "def add(a,b,c): # first function\n",
    "    print(\"Total\",a+b+c)\n",
    "\n",
    "def multiply2(a): # second function\n",
    "    print(\"multiplied by 2\", a * 2)\n",
    "# The reason we get an error here is that the functions do not return any value.  "
   ]
  },
  {
   "cell_type": "code",
   "execution_count": null,
   "metadata": {},
   "outputs": [],
   "source": [
    "def add(a,b,c): # first function\n",
    "   return a+b+c\n",
    "\n",
    "def multiply2(a): # second function\n",
    "    return a*2\n",
    "total = add(3+4+5)\n",
    "print (multiply2(total)) "
   ]
  },
  {
   "source": [
    "This is exactly what the return statement means. With the help of return, functions can return values to where they were called, and we can use these values wherever we want."
   ],
   "cell_type": "markdown",
   "metadata": {}
  },
  {
   "cell_type": "code",
   "execution_count": null,
   "metadata": {},
   "outputs": [],
   "source": [
    "def First(a):\n",
    "    print(\"First Function\")\n",
    "    return a*3\n",
    "def Second(a):\n",
    "    print(\"Second Function\")\n",
    "    return a + 2\n",
    "def Third(a):\n",
    "    print(\"Third Function\")\n",
    "    return a / 4\n",
    "print(Third(Second(First(5))))\n",
    "#After the return statement, our function is completely finished. That is, any operation done after the return statement will not be executed."
   ]
  },
  {
   "cell_type": "code",
   "execution_count": null,
   "metadata": {},
   "outputs": [],
   "source": []
  }
 ]
}