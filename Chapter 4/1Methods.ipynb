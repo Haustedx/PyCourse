{
 "nbformat": 4,
 "nbformat_minor": 2,
 "metadata": {
  "language_info": {
   "name": "python",
   "codemirror_mode": {
    "name": "ipython",
    "version": 3
   },
   "version": "2.7.17-final"
  },
  "orig_nbformat": 2,
  "file_extension": ".py",
  "mimetype": "text/x-python",
  "name": "python",
  "npconvert_exporter": "python",
  "pygments_lexer": "ipython3",
  "version": 3,
  "kernelspec": {
   "name": "python271764bit7b4fb78ad16f4361857ad9c2a8686982",
   "display_name": "Python 2.7.17 64-bit"
  }
 },
 "cells": [
  {
   "source": [
    "# Methods\n",
    "So far we've learned a lot of basics in Python and programming, and now we've come to the most important part in Python and programming. In the Functions section, we will try to understand the logic of using functions by making real-life analogies.<br>\n",
    "First,let's try to understand what a Method is.<br>\n",
    "## What is Method?<br>\n",
    "So far, we have seen many data types that we can use in Python and we have used the methods of these datatypes on some datatypes. In fact, each variable created from these datatypes is considered an object in Python, and Python developers have defined many methods for these objects.<br>\n",
    "Metodlar bir obje üzerinde belli işlemleri gerçekleştiren objelere özgü fonksiyonlardır."
   ],
   "cell_type": "markdown",
   "metadata": {}
  },
  {
   "cell_type": "code",
   "execution_count": 5,
   "metadata": {},
   "outputs": [
    {
     "output_type": "stream",
     "name": "stdout",
     "text": "[1, 'Python', 2, 3, 4, 5]\n"
    }
   ],
   "source": [
    "list1 = [1,2,3,4,5]\n",
    "list1.insert(1,\"Python\")\n",
    "print(list1)"
   ]
  },
  {
   "cell_type": "code",
   "execution_count": 6,
   "metadata": {},
   "outputs": [
    {
     "output_type": "stream",
     "name": "stdout",
     "text": "Help on built-in function insert:\n\ninsert(...)\n    L.insert(index, object) -- insert object before index\n\n"
    }
   ],
   "source": [
    "help(list1.insert) # "
   ]
  },
  {
   "cell_type": "code",
   "execution_count": null,
   "metadata": {},
   "outputs": [],
   "source": []
  }
 ]
}