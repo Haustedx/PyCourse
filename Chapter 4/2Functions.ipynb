{
 "nbformat": 4,
 "nbformat_minor": 2,
 "metadata": {
  "language_info": {
   "name": "python",
   "codemirror_mode": {
    "name": "ipython",
    "version": 3
   },
   "version": "2.7.17-final"
  },
  "orig_nbformat": 2,
  "file_extension": ".py",
  "mimetype": "text/x-python",
  "name": "python",
  "npconvert_exporter": "python",
  "pygments_lexer": "ipython3",
  "version": 3,
  "kernelspec": {
   "name": "python271764bit5ce1e29851714032b9ff33fc68d25c09",
   "display_name": "Python 2.7.17 64-bit"
  }
 },
 "cells": [
  {
   "source": [
    "# Functions<br>\n",
    "In this lecture, we will try to learn what functions are, how to define a function and how to use it.<br>\n",
    "Functions are structures that have certain functions in programming and that we use over and over again. For example, the task of the print() function, which we have been using since the beginning of our course, is to print the values we have sent to the screen. This function was written once by Python developers, and we use it over and over in different parts of our programs. This is exactly what functions are meant to be used for.<br>\n",
    "In addition, functions prevent code duplication and our code stays much tidier.<br>\n",
    "The functions written by Python developers, we alreay used (print(), type() etc.) are called built-in functions. However, apart from these, we can also define our own custom functions (user-defined functions).<br>\n",
    "\n",
    "## Defining Functions<br>\n",
    "\n",
    "&nbsp;&nbsp;&nbsp;&nbsp; def function_name(parameter1,parameter2...):<br>\n",
    "&nbsp;&nbsp;&nbsp;&nbsp;&nbsp;&nbsp;&nbsp;# Function Block<br>\n",
    "&nbsp;&nbsp;&nbsp;&nbsp;&nbsp;&nbsp;&nbsp;  Operations<br>\n",
    "&nbsp;&nbsp;&nbsp;&nbsp;&nbsp;&nbsp;&nbsp;# Return Value(Optional)<br>\n"
   ],
   "cell_type": "markdown",
   "metadata": {}
  },
  {
   "cell_type": "code",
   "execution_count": 3,
   "metadata": {},
   "outputs": [
    {
     "output_type": "stream",
     "name": "stdout",
     "text": "<type 'function'>\n"
    }
   ],
   "source": [
    "def Hello():\n",
    "    print(\"Hi Students\")\n",
    "    print(\"How are you?\")\n",
    "print(type(Hello)) # Function is defined!"
   ]
  },
  {
   "source": [
    "## Function Call<br>\n",
    "Using a defined function is called a Function Call in programming. So let's learn how to call our Hello function. The function call can be made as follows;<br><br>\n",
    "&nbsp;&nbsp;&nbsp;&nbsp; function_name(argument1,argument2...):<br>\n"
   ],
   "cell_type": "markdown",
   "metadata": {}
  },
  {
   "cell_type": "code",
   "execution_count": 7,
   "metadata": {},
   "outputs": [
    {
     "output_type": "stream",
     "name": "stdout",
     "text": "Hi Students\nHow are you?\n"
    }
   ],
   "source": [
    "Hello() #When the function takes no parameters, we don't send our arguments into it."
   ]
  },
  {
   "source": [
    "## Parameters and Arguments<br>\n",
    "As we know, we were not sending any value into the Hello function and our function was always doing the same job. However, most of the time they do different operations with the values we pass into our functions.<br>\n",
    "Let's define our greeting function to take one parameter."
   ],
   "cell_type": "markdown",
   "metadata": {}
  },
  {
   "cell_type": "code",
   "execution_count": 10,
   "metadata": {},
   "outputs": [],
   "source": [
    "def Hi(name):\n",
    "    print(\"Hi\",name) # name is our parameter now\n"
   ]
  },
  {
   "cell_type": "code",
   "execution_count": 11,
   "metadata": {},
   "outputs": [
    {
     "output_type": "stream",
     "name": "stdout",
     "text": "('Hi', 'John')\n"
    }
   ],
   "source": [
    "Hi(\"John\") # John is our argument here."
   ]
  },
  {
   "cell_type": "code",
   "execution_count": 12,
   "metadata": {},
   "outputs": [
    {
     "output_type": "stream",
     "name": "stdout",
     "text": "('addition:', 12)\n"
    }
   ],
   "source": [
    "# Addition function\n",
    "def add(a,b,c): # our function took 3 parameters\n",
    "    print(\"addition:\", a+b+c)\n",
    "add(3,4,5)"
   ]
  },
  {
   "cell_type": "code",
   "execution_count": null,
   "metadata": {},
   "outputs": [],
   "source": []
  }
 ]
}