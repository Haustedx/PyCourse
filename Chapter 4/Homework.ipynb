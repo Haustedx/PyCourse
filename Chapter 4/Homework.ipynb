{
 "nbformat": 4,
 "nbformat_minor": 2,
 "metadata": {
  "language_info": {
   "name": "python",
   "codemirror_mode": {
    "name": "ipython",
    "version": 3
   }
  },
  "orig_nbformat": 2,
  "file_extension": ".py",
  "mimetype": "text/x-python",
  "name": "python",
  "npconvert_exporter": "python",
  "pygments_lexer": "ipython3",
  "version": 3
 },
 "cells": [
  {
   "source": [
    "# Programming Assignment - Functions\n",
    "\n",
    "## Problem 1\n",
    "Take a 2-digit number from the user and write a function that finds the pronunciation of that number.\n",
    "\n",
    "Example: 97 ---------> Ninety Seven\n",
    "\n",
    "## Problem 2\n",
    "Write a function that prints the numbers from 1 to 100 forming a pythagorean triangle (a <= 100,b <= 100)"
   ],
   "cell_type": "markdown",
   "metadata": {}
  }
 ]
}